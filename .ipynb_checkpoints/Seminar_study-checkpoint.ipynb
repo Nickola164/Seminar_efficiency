{
 "cells": [
  {
   "cell_type": "code",
   "execution_count": 21,
   "id": "aa5f35a4-92d5-4170-adab-fbb774809c20",
   "metadata": {},
   "outputs": [],
   "source": [
    "import pandas as pd\n",
    "import matplotlib.pyplot as plt\n",
    "import seaborn as sns\n",
    "import datetime\n",
    "import numpy as np"
   ]
  },
  {
   "cell_type": "code",
   "execution_count": 77,
   "id": "69a874a5-04a2-48ca-bb23-dc38cabee6a6",
   "metadata": {},
   "outputs": [],
   "source": [
    "df_cl = pd.read_csv('C://Users/Petr/Desktop/Seminar_efficiency/clients.csv', sep=';')\n",
    "df_inst_reg = pd.read_csv('C://Users/Petr/Desktop/Seminar_efficiency/inst_reg.csv', sep=';')\n",
    "df_fb_reg= pd.read_csv('C://Users/Petr/Desktop/Seminar_efficiency/fb_reg.csv', sep=';', parse_dates=[2], dayfirst=True)\n",
    "df_logs = pd.read_csv('C://Users/Petr/Desktop/Seminar_efficiency/logs.csv', sep=';', parse_dates=[2,3], dayfirst=True)\n",
    "df_tg_reg = pd.read_csv('C://Users/Petr/Desktop/Seminar_efficiency/tg_reg.csv', sep=';', parse_dates=[2], dayfirst=True)\n",
    "df_vk_reg = pd.read_csv('C://Users/Petr/Desktop/Seminar_efficiency/vk_reg.csv', sep=';', parse_dates=[2], dayfirst=True)\n",
    "df_vk_email = pd.read_csv('C://Users/Petr/Desktop/Seminar_efficiency/email_reg.csv', sep=';', parse_dates=[2], dayfirst=True)"
   ]
  },
  {
   "cell_type": "code",
   "execution_count": 162,
   "id": "6becb2f6-10fa-461f-9e77-777d4033a578",
   "metadata": {},
   "outputs": [],
   "source": [
    "df_logs_cl = pd.merge(df_logs,\n",
    "                      df_cl,\n",
    "                      on=['id_user', 'id_user']\n",
    "                      )"
   ]
  },
  {
   "cell_type": "markdown",
   "id": "19077674-53ec-4622-b30a-e8e66985873e",
   "metadata": {},
   "source": [
    " Изучите конверсию в посещение вебинара из регистрации на вебинар с различных площадок. Можете ли вы выявить площадку (блогера / паблик / группу), которая накручивает регистрации?"
   ]
  },
  {
   "cell_type": "markdown",
   "id": "d16a53c2-d2a8-49e3-ad2d-8857171b79f3",
   "metadata": {},
   "source": [
    "посчитаем рапределение реальных посетителей и общего количества регистраций по промо-каналам "
   ]
  },
  {
   "cell_type": "code",
   "execution_count": 208,
   "id": "b35803f3-69d4-4b90-8665-f1fff8343a47",
   "metadata": {},
   "outputs": [
    {
     "data": {
      "text/html": [
       "<div>\n",
       "<style scoped>\n",
       "    .dataframe tbody tr th:only-of-type {\n",
       "        vertical-align: middle;\n",
       "    }\n",
       "\n",
       "    .dataframe tbody tr th {\n",
       "        vertical-align: top;\n",
       "    }\n",
       "\n",
       "    .dataframe thead th {\n",
       "        text-align: right;\n",
       "    }\n",
       "</style>\n",
       "<table border=\"1\" class=\"dataframe\">\n",
       "  <thead>\n",
       "    <tr style=\"text-align: right;\">\n",
       "      <th></th>\n",
       "      <th>sourse</th>\n",
       "      <th>users_cnt_visited</th>\n",
       "      <th>users_cnt_regitered</th>\n",
       "    </tr>\n",
       "  </thead>\n",
       "  <tbody>\n",
       "    <tr>\n",
       "      <th>0</th>\n",
       "      <td>instagram</td>\n",
       "      <td>463</td>\n",
       "      <td>5255</td>\n",
       "    </tr>\n",
       "    <tr>\n",
       "      <th>1</th>\n",
       "      <td>telegram</td>\n",
       "      <td>352</td>\n",
       "      <td>3079</td>\n",
       "    </tr>\n",
       "    <tr>\n",
       "      <th>2</th>\n",
       "      <td>vkontakte</td>\n",
       "      <td>140</td>\n",
       "      <td>1731</td>\n",
       "    </tr>\n",
       "    <tr>\n",
       "      <th>3</th>\n",
       "      <td>facebook</td>\n",
       "      <td>294</td>\n",
       "      <td>2663</td>\n",
       "    </tr>\n",
       "    <tr>\n",
       "      <th>4</th>\n",
       "      <td>email</td>\n",
       "      <td>186</td>\n",
       "      <td>3128</td>\n",
       "    </tr>\n",
       "  </tbody>\n",
       "</table>\n",
       "</div>"
      ],
      "text/plain": [
       "      sourse  users_cnt_visited  users_cnt_regitered\n",
       "0  instagram                463                 5255\n",
       "1   telegram                352                 3079\n",
       "2  vkontakte                140                 1731\n",
       "3   facebook                294                 2663\n",
       "4      email                186                 3128"
      ]
     },
     "execution_count": 208,
     "metadata": {},
     "output_type": "execute_result"
    }
   ],
   "source": [
    "instagram = df_logs_cl.source.map(lambda x: 'instagram' in x).sum()\n",
    "tg = df_logs_cl.source.map(lambda x: 'telegram' in x).sum()\n",
    "vk = df_logs_cl.source.map(lambda x: 'vkontakte' in x).sum()\n",
    "fb = df_logs_cl.source.map(lambda x: 'facebook' in x).sum()\n",
    "email = df_logs_cl.source.map(lambda x: 'email' in x).sum()\n",
    "\n",
    "inst = df_inst_reg['id_reg'].count()\n",
    "tgrm = df_tg_reg['id_reg'].count()\n",
    "vkte = df_vk_reg['id_reg'].count()\n",
    "fbk = df_fb_reg['id_reg'].count()\n",
    "e_mail = df_vk_email['id_reg'].count()\n",
    "\n",
    "sourse_counts = pd.DataFrame({'sourse':['instagram', 'telegram', 'vkontakte', 'facebook', 'email'],\n",
    "                             'users_cnt_visited':[instagram, tg, vk, fb, email],\n",
    "                             'users_cnt_regitered':[inst, tgrm, vkte, fbk, e_mail]})\n",
    "sourse_counts"
   ]
  },
  {
   "cell_type": "markdown",
   "id": "68f2754e-bfc5-4f75-a711-ab6364c64c6a",
   "metadata": {},
   "source": [
    "высчитаем конверсию по каждому каналу"
   ]
  },
  {
   "cell_type": "code",
   "execution_count": 213,
   "id": "d4903f63-23cb-49ab-9fac-e1ec25937a9b",
   "metadata": {},
   "outputs": [
    {
     "data": {
      "text/html": [
       "<div>\n",
       "<style scoped>\n",
       "    .dataframe tbody tr th:only-of-type {\n",
       "        vertical-align: middle;\n",
       "    }\n",
       "\n",
       "    .dataframe tbody tr th {\n",
       "        vertical-align: top;\n",
       "    }\n",
       "\n",
       "    .dataframe thead th {\n",
       "        text-align: right;\n",
       "    }\n",
       "</style>\n",
       "<table border=\"1\" class=\"dataframe\">\n",
       "  <thead>\n",
       "    <tr style=\"text-align: right;\">\n",
       "      <th></th>\n",
       "      <th>sourse</th>\n",
       "      <th>users_cnt_visited</th>\n",
       "      <th>users_cnt_regitered</th>\n",
       "      <th>conversion</th>\n",
       "    </tr>\n",
       "  </thead>\n",
       "  <tbody>\n",
       "    <tr>\n",
       "      <th>0</th>\n",
       "      <td>instagram</td>\n",
       "      <td>463</td>\n",
       "      <td>5255</td>\n",
       "      <td>0.088107</td>\n",
       "    </tr>\n",
       "    <tr>\n",
       "      <th>1</th>\n",
       "      <td>telegram</td>\n",
       "      <td>352</td>\n",
       "      <td>3079</td>\n",
       "      <td>0.114323</td>\n",
       "    </tr>\n",
       "    <tr>\n",
       "      <th>2</th>\n",
       "      <td>vkontakte</td>\n",
       "      <td>140</td>\n",
       "      <td>1731</td>\n",
       "      <td>0.080878</td>\n",
       "    </tr>\n",
       "    <tr>\n",
       "      <th>3</th>\n",
       "      <td>facebook</td>\n",
       "      <td>294</td>\n",
       "      <td>2663</td>\n",
       "      <td>0.110402</td>\n",
       "    </tr>\n",
       "    <tr>\n",
       "      <th>4</th>\n",
       "      <td>email</td>\n",
       "      <td>186</td>\n",
       "      <td>3128</td>\n",
       "      <td>0.059463</td>\n",
       "    </tr>\n",
       "  </tbody>\n",
       "</table>\n",
       "</div>"
      ],
      "text/plain": [
       "      sourse  users_cnt_visited  users_cnt_regitered  conversion\n",
       "0  instagram                463                 5255    0.088107\n",
       "1   telegram                352                 3079    0.114323\n",
       "2  vkontakte                140                 1731    0.080878\n",
       "3   facebook                294                 2663    0.110402\n",
       "4      email                186                 3128    0.059463"
      ]
     },
     "execution_count": 213,
     "metadata": {},
     "output_type": "execute_result"
    }
   ],
   "source": [
    "sourse_counts['conversion'] = sourse_counts.users_cnt_visited/sourse_counts.users_cnt_regitered\n",
    "sourse_counts"
   ]
  },
  {
   "cell_type": "markdown",
   "id": "adf15a24-572f-46a2-aeac-c34d1b1e7be6",
   "metadata": {},
   "source": [
    "нарисуем график для наглядности"
   ]
  },
  {
   "cell_type": "code",
   "execution_count": 215,
   "id": "42b3724b-fc43-4fdd-9726-9e2c9960aa0f",
   "metadata": {},
   "outputs": [
    {
     "data": {
      "text/plain": [
       "Text(0.5, 1.0, 'конверсия промо-каналов')"
      ]
     },
     "execution_count": 215,
     "metadata": {},
     "output_type": "execute_result"
    },
    {
     "data": {
      "image/png": "[encoded data removed]",
      "text/plain": [
       "<Figure size 432x432 with 1 Axes>"
      ]
     },
     "metadata": {
      "needs_background": "light"
     },
     "output_type": "display_data"
    }
   ],
   "source": [
    "plt.figure(figsize=(6,6))\n",
    "sns.barplot(x=sourse_counts.sourse,\n",
    "           y=sourse_counts.conversion)\n",
    "plt.title('конверсия промо-каналов')"
   ]
  },
  {
   "cell_type": "markdown",
   "id": "15cafdd6-040b-48b7-9ead-1f1134681085",
   "metadata": {},
   "source": [
    "далее выясним эффективность подканалов по каждому промо-каналу с помощью группировки по ним"
   ]
  },
  {
   "cell_type": "code",
   "execution_count": 130,
   "id": "c42e52d2-c13e-48f8-97c3-7319afa07e81",
   "metadata": {},
   "outputs": [
    {
     "data": {
      "text/plain": [
       "public_label\n",
       "public1    1440\n",
       "public2     869\n",
       "public3     770\n",
       "public4       0\n",
       "Name: id_reg, dtype: int64"
      ]
     },
     "execution_count": 130,
     "metadata": {},
     "output_type": "execute_result"
    }
   ],
   "source": [
    "df_tg_reg.groupby(df_tg_reg.public_label).id_reg.count()"
   ]
  },
  {
   "cell_type": "code",
   "execution_count": 127,
   "id": "86453fc9-c533-404d-86c2-a9b10619b18c",
   "metadata": {},
   "outputs": [
    {
     "data": {
      "text/plain": [
       "group_label\n",
       "group1    605\n",
       "group2    627\n",
       "group3    499\n",
       "Name: id_reg, dtype: int64"
      ]
     },
     "execution_count": 127,
     "metadata": {},
     "output_type": "execute_result"
    }
   ],
   "source": [
    "df_vk_reg.groupby(df_vk_reg['group_label']).id_reg.count()"
   ]
  },
  {
   "cell_type": "code",
   "execution_count": 133,
   "id": "7e2d0509-95a8-4c1a-b739-81caf6f6d3db",
   "metadata": {},
   "outputs": [
    {
     "data": {
      "text/plain": [
       "source_label\n",
       "source1     671\n",
       "source2    1028\n",
       "source3     964\n",
       "Name: id_reg, dtype: int64"
      ]
     },
     "execution_count": 133,
     "metadata": {},
     "output_type": "execute_result"
    }
   ],
   "source": [
    "df_fb_reg.groupby(df_fb_reg['source_label']).id_reg.count()"
   ]
  },
  {
   "cell_type": "code",
   "execution_count": 136,
   "id": "69637933-7398-4992-9e6e-c4d927a89bcf",
   "metadata": {},
   "outputs": [
    {
     "data": {
      "text/plain": [
       "blogger_label\n",
       "blogger1    1611\n",
       "blogger2     841\n",
       "blogger3     743\n",
       "blogger4    2060\n",
       "Name: id_reg, dtype: int64"
      ]
     },
     "execution_count": 136,
     "metadata": {},
     "output_type": "execute_result"
    }
   ],
   "source": [
    "df_inst_reg.groupby(df_inst_reg['blogger_label']).id_reg.count()"
   ]
  },
  {
   "cell_type": "markdown",
   "id": "12fbd9a3-bf4b-481b-acd0-68bc467afb2d",
   "metadata": {},
   "source": [
    "высчитаем распределение реальных посетителей семинара по подканалам и сопоставим с зарегистрированными по этим же подканаам"
   ]
  },
  {
   "cell_type": "code",
   "execution_count": 218,
   "id": "bc4171ca-c5b5-484f-8744-cda4bcb8dbb9",
   "metadata": {},
   "outputs": [
    {
     "data": {
      "text/html": [
       "<div>\n",
       "<style scoped>\n",
       "    .dataframe tbody tr th:only-of-type {\n",
       "        vertical-align: middle;\n",
       "    }\n",
       "\n",
       "    .dataframe tbody tr th {\n",
       "        vertical-align: top;\n",
       "    }\n",
       "\n",
       "    .dataframe thead th {\n",
       "        text-align: right;\n",
       "    }\n",
       "</style>\n",
       "<table border=\"1\" class=\"dataframe\">\n",
       "  <thead>\n",
       "    <tr style=\"text-align: right;\">\n",
       "      <th></th>\n",
       "      <th>insta_visit</th>\n",
       "      <th>insta_reg</th>\n",
       "      <th>tg_visit</th>\n",
       "      <th>tg_reg</th>\n",
       "      <th>vk_visit</th>\n",
       "      <th>vk_reg</th>\n",
       "      <th>fb_visit</th>\n",
       "      <th>fb_reg</th>\n",
       "    </tr>\n",
       "  </thead>\n",
       "  <tbody>\n",
       "    <tr>\n",
       "      <th>0</th>\n",
       "      <td>164</td>\n",
       "      <td>1611</td>\n",
       "      <td>177</td>\n",
       "      <td>1440</td>\n",
       "      <td>62</td>\n",
       "      <td>605</td>\n",
       "      <td>72</td>\n",
       "      <td>671</td>\n",
       "    </tr>\n",
       "    <tr>\n",
       "      <th>1</th>\n",
       "      <td>97</td>\n",
       "      <td>841</td>\n",
       "      <td>107</td>\n",
       "      <td>869</td>\n",
       "      <td>55</td>\n",
       "      <td>627</td>\n",
       "      <td>127</td>\n",
       "      <td>1028</td>\n",
       "    </tr>\n",
       "    <tr>\n",
       "      <th>2</th>\n",
       "      <td>108</td>\n",
       "      <td>743</td>\n",
       "      <td>68</td>\n",
       "      <td>770</td>\n",
       "      <td>23</td>\n",
       "      <td>499</td>\n",
       "      <td>95</td>\n",
       "      <td>964</td>\n",
       "    </tr>\n",
       "    <tr>\n",
       "      <th>3</th>\n",
       "      <td>94</td>\n",
       "      <td>2060</td>\n",
       "      <td>0</td>\n",
       "      <td>0</td>\n",
       "      <td>0</td>\n",
       "      <td>0</td>\n",
       "      <td>0</td>\n",
       "      <td>0</td>\n",
       "    </tr>\n",
       "  </tbody>\n",
       "</table>\n",
       "</div>"
      ],
      "text/plain": [
       "   insta_visit  insta_reg  tg_visit  tg_reg  vk_visit  vk_reg  fb_visit  \\\n",
       "0          164       1611       177    1440        62     605        72   \n",
       "1           97        841       107     869        55     627       127   \n",
       "2          108        743        68     770        23     499        95   \n",
       "3           94       2060         0       0         0       0         0   \n",
       "\n",
       "   fb_reg  \n",
       "0     671  \n",
       "1    1028  \n",
       "2     964  \n",
       "3       0  "
      ]
     },
     "execution_count": 218,
     "metadata": {},
     "output_type": "execute_result"
    }
   ],
   "source": [
    "insta_b1 = df_logs_cl.source.map(lambda x: 'blogger1' in x).sum()\n",
    "insta_b2 = df_logs_cl.source.map(lambda x: 'blogger2' in x).sum()\n",
    "insta_b3 = df_logs_cl.source.map(lambda x: 'blogger3' in x).sum()\n",
    "insta_b4 = df_logs_cl.source.map(lambda x: 'blogger4' in x).sum()\n",
    "\n",
    "b1 =   1611\n",
    "b2 =   841\n",
    "b3 =   743\n",
    "b4 =   2060\n",
    "\n",
    "tg_p1 = df_logs_cl.source.map(lambda x: 'public1' in x).sum()\n",
    "tg_p2 = df_logs_cl.source.map(lambda x: 'public2' in x).sum()\n",
    "tg_p3 = df_logs_cl.source.map(lambda x: 'public3' in x).sum()\n",
    "tg_p4 = df_logs_cl.source.map(lambda x: 'public4' in x).sum()\n",
    "\n",
    "p1 =  1440\n",
    "p2 =  869\n",
    "p3 =  770\n",
    "p4 =  0\n",
    "\n",
    "vk_g1 = df_logs_cl.source.map(lambda x: 'group1' in x).sum()\n",
    "vk_g2 = df_logs_cl.source.map(lambda x: 'group2' in x).sum()\n",
    "vk_g3 = df_logs_cl.source.map(lambda x: 'group3' in x).sum()\n",
    "vk_g4 = df_logs_cl.source.map(lambda x: 'group4' in x).sum()\n",
    "\n",
    "\n",
    "g1 =   605\n",
    "g2 =   627\n",
    "g3 =   499\n",
    "g4 =   0\n",
    "\n",
    "fb_s1 = df_logs_cl.source.map(lambda x: 'source1' in x).sum()\n",
    "fb_s2 = df_logs_cl.source.map(lambda x: 'source2' in x).sum()\n",
    "fb_s3 = df_logs_cl.source.map(lambda x: 'source3' in x).sum()\n",
    "fb_s4 = df_logs_cl.source.map(lambda x: 'source4' in x).sum()\n",
    "\n",
    "\n",
    "s1 =   671\n",
    "s2 =   1028\n",
    "s3 =   964\n",
    "s4 =   0\n",
    "\n",
    "#email = df_logs_cl.source.map(lambda x: 'email' in x).sum()\n",
    "#email_r = df_vk_email['id_reg'].count()\n",
    "\n",
    "sourse_countsc_d = pd.DataFrame({'insta_visit':[insta_b1, insta_b2, insta_b3, insta_b4],\n",
    "                             'insta_reg':[b1, b2, b3, b4],\n",
    "                             'tg_visit':[tg_p1, tg_p2, tg_p3, tg_p4],\n",
    "                             'tg_reg':[p1,p2,p3,p4],\n",
    "                             'vk_visit':[vk_g1,vk_g2,vk_g3,vk_g4],\n",
    "                             'vk_reg':[g1,g2,g3,g4],\n",
    "                             'fb_visit':[fb_s1,fb_s2,fb_s3,fb_s4],\n",
    "                             'fb_reg':[s1,s2,s3,s4]})\n",
    "                             #'email_promo':[email]\n",
    "                             #'email_real':[email_r]\n",
    "#sourse_countsc_d = sourse_countsc_d.rename_axis('promo_channel', axis='rows')\n",
    "sourse_countsc_d"
   ]
  },
  {
   "cell_type": "markdown",
   "id": "38b25eb3-23b9-43b3-b70d-f4d0612b1581",
   "metadata": {},
   "source": [
    "теперь посчитаем конверсии регистраций в посещения по подканалам и визуализируем с помощью линейного графика"
   ]
  },
  {
   "cell_type": "code",
   "execution_count": 174,
   "id": "305a7e84-806c-4677-980c-1b5bd5da3d9d",
   "metadata": {},
   "outputs": [
    {
     "data": {
      "text/html": [
       "<div>\n",
       "<style scoped>\n",
       "    .dataframe tbody tr th:only-of-type {\n",
       "        vertical-align: middle;\n",
       "    }\n",
       "\n",
       "    .dataframe tbody tr th {\n",
       "        vertical-align: top;\n",
       "    }\n",
       "\n",
       "    .dataframe thead th {\n",
       "        text-align: right;\n",
       "    }\n",
       "</style>\n",
       "<table border=\"1\" class=\"dataframe\">\n",
       "  <thead>\n",
       "    <tr style=\"text-align: right;\">\n",
       "      <th></th>\n",
       "      <th>insta_conv</th>\n",
       "      <th>tg_conv</th>\n",
       "      <th>vk_conv</th>\n",
       "      <th>fb_conv</th>\n",
       "    </tr>\n",
       "  </thead>\n",
       "  <tbody>\n",
       "    <tr>\n",
       "      <th>0</th>\n",
       "      <td>0.101800</td>\n",
       "      <td>0.122917</td>\n",
       "      <td>0.102479</td>\n",
       "      <td>0.107303</td>\n",
       "    </tr>\n",
       "    <tr>\n",
       "      <th>1</th>\n",
       "      <td>0.115339</td>\n",
       "      <td>0.123130</td>\n",
       "      <td>0.087719</td>\n",
       "      <td>0.123541</td>\n",
       "    </tr>\n",
       "    <tr>\n",
       "      <th>2</th>\n",
       "      <td>0.145357</td>\n",
       "      <td>0.088312</td>\n",
       "      <td>0.046092</td>\n",
       "      <td>0.098548</td>\n",
       "    </tr>\n",
       "    <tr>\n",
       "      <th>3</th>\n",
       "      <td>0.045631</td>\n",
       "      <td>NaN</td>\n",
       "      <td>NaN</td>\n",
       "      <td>NaN</td>\n",
       "    </tr>\n",
       "  </tbody>\n",
       "</table>\n",
       "</div>"
      ],
      "text/plain": [
       "   insta_conv   tg_conv   vk_conv   fb_conv\n",
       "0    0.101800  0.122917  0.102479  0.107303\n",
       "1    0.115339  0.123130  0.087719  0.123541\n",
       "2    0.145357  0.088312  0.046092  0.098548\n",
       "3    0.045631       NaN       NaN       NaN"
      ]
     },
     "execution_count": 174,
     "metadata": {},
     "output_type": "execute_result"
    }
   ],
   "source": [
    "sourse_countsc_d['insta_conv'] = sourse_countsc_d.insta_visit/sourse_countsc_d.insta_reg\n",
    "sourse_countsc_d['tg_conv'] = sourse_countsc_d.tg_visit/sourse_countsc_d.tg_reg\n",
    "sourse_countsc_d['vk_conv'] = sourse_countsc_d.vk_visit/sourse_countsc_d.vk_reg\n",
    "sourse_countsc_d['fb_conv'] = sourse_countsc_d.fb_visit/sourse_countsc_d.fb_reg\n",
    "sourse_countsc_conv = sourse_countsc_d[['insta_conv','tg_conv','vk_conv','fb_conv']]\n",
    "sourse_countsc_conv"
   ]
  },
  {
   "cell_type": "code",
   "execution_count": 183,
   "id": "7d49dc6e-2ec3-41e1-8050-07f0ce25ca7f",
   "metadata": {},
   "outputs": [
    {
     "data": {
      "image/png": "[encoded data removed]",
      "text/plain": [
       "<Figure size 720x360 with 1 Axes>"
      ]
     },
     "metadata": {
      "needs_background": "light"
     },
     "output_type": "display_data"
    }
   ],
   "source": [
    "plt.figure(figsize=(10,5))\n",
    "sns.lineplot(data=sourse_countsc_conv)\n",
    "plt.axvline(x=0, color='grey', linestyle='--')\n",
    "plt.axvline(x=1, color='grey', linestyle='--')\n",
    "plt.axvline(x=2, color='grey', linestyle='--')\n",
    "plt.axvline(x=3, color='grey', linestyle='--')\n",
    "plt.grid() "
   ]
  },
  {
   "cell_type": "markdown",
   "id": "2f917346-ceba-4764-ad61-f4802cc5da0d",
   "metadata": {},
   "source": [
    "мы видим, что третья группа VK и 4-й блогер в инстаграме занимаются накрутками - конверсия по их каналам минимум вдвое меньше, чем по остальным каналам"
   ]
  },
  {
   "cell_type": "markdown",
   "id": "d1c183cf-e28c-4bdd-81b2-bf5fab7e803d",
   "metadata": {},
   "source": [
    " Изучите посещаемость вебинара с точки зрения притока и оттока.\n",
    "Сопоставьте отток с расписанием вебинара и подсветите ту часть вебинара, которую необходимо улучшить. Напишите рекомендации для продающего менеджера и для спикера-аналитика.\n",
    "Иногда требуется дополнительно отправлять пуш- или смс-уведомление зарегистрированным пользователям, чтобы позвать их на вебинар (тем, кто не пришел к началу). Такая коммуникация отправлялась один раз в течение нашего вебинара. Сможете ли вы определить, когда именно она была отправлена?\n",
    "Зависит ли время, в течение которого клиент остается на вебинаре, от его канала привлечения?"
   ]
  },
  {
   "cell_type": "code",
   "execution_count": 249,
   "id": "6fd81876-da0e-4711-b4ec-11fd67c07a9c",
   "metadata": {},
   "outputs": [],
   "source": [
    "#reviews.groupby(['country', 'variety']).size().sort_values(ascending=False)\n",
    "#df_logs_cl.groupby(['t_came', 't_left'].dt.hour).id_webinar.count().reset_index()\n",
    "cl_in = df_logs_cl.groupby(df_logs_cl['t_came']).id_webinar.count().reset_index()"
   ]
  },
  {
   "cell_type": "code",
   "execution_count": 250,
   "id": "fa223780-814e-452f-9096-3f87fd88bf4c",
   "metadata": {},
   "outputs": [],
   "source": [
    "cl_out = df_logs_cl.groupby(df_logs_cl['t_left']).id_webinar.count().reset_index()"
   ]
  },
  {
   "cell_type": "code",
   "execution_count": 261,
   "id": "9d2ce557-f319-4927-8c8c-e4f5d7102cf2",
   "metadata": {},
   "outputs": [
    {
     "data": {
      "text/html": [
       "<div>\n",
       "<style scoped>\n",
       "    .dataframe tbody tr th:only-of-type {\n",
       "        vertical-align: middle;\n",
       "    }\n",
       "\n",
       "    .dataframe tbody tr th {\n",
       "        vertical-align: top;\n",
       "    }\n",
       "\n",
       "    .dataframe thead th {\n",
       "        text-align: right;\n",
       "    }\n",
       "</style>\n",
       "<table border=\"1\" class=\"dataframe\">\n",
       "  <thead>\n",
       "    <tr style=\"text-align: right;\">\n",
       "      <th></th>\n",
       "      <th>t_left</th>\n",
       "      <th>id_webinar</th>\n",
       "    </tr>\n",
       "  </thead>\n",
       "  <tbody>\n",
       "    <tr>\n",
       "      <th>0</th>\n",
       "      <td>2022-08-01 12:00:00</td>\n",
       "      <td>16</td>\n",
       "    </tr>\n",
       "    <tr>\n",
       "      <th>1</th>\n",
       "      <td>2022-08-01 12:01:00</td>\n",
       "      <td>20</td>\n",
       "    </tr>\n",
       "    <tr>\n",
       "      <th>2</th>\n",
       "      <td>2022-08-01 12:02:00</td>\n",
       "      <td>11</td>\n",
       "    </tr>\n",
       "  </tbody>\n",
       "</table>\n",
       "</div>"
      ],
      "text/plain": [
       "               t_left  id_webinar\n",
       "0 2022-08-01 12:00:00          16\n",
       "1 2022-08-01 12:01:00          20\n",
       "2 2022-08-01 12:02:00          11"
      ]
     },
     "execution_count": 261,
     "metadata": {},
     "output_type": "execute_result"
    }
   ],
   "source": [
    "cl_out.head(3)"
   ]
  },
  {
   "cell_type": "code",
   "execution_count": null,
   "id": "90a73a83-3f9f-40e2-8738-5f9467da330c",
   "metadata": {},
   "outputs": [
    {
     "data": {
      "text/html": [
       "<div>\n",
       "<style scoped>\n",
       "    .dataframe tbody tr th:only-of-type {\n",
       "        vertical-align: middle;\n",
       "    }\n",
       "\n",
       "    .dataframe tbody tr th {\n",
       "        vertical-align: top;\n",
       "    }\n",
       "\n",
       "    .dataframe thead th {\n",
       "        text-align: right;\n",
       "    }\n",
       "</style>\n",
       "<table border=\"1\" class=\"dataframe\">\n",
       "  <thead>\n",
       "    <tr style=\"text-align: right;\">\n",
       "      <th></th>\n",
       "      <th>t_came</th>\n",
       "      <th>id_webinar</th>\n",
       "    </tr>\n",
       "  </thead>\n",
       "  <tbody>\n",
       "    <tr>\n",
       "      <th>0</th>\n",
       "      <td>2022-08-01 12:00:00</td>\n",
       "      <td>83</td>\n",
       "    </tr>\n",
       "    <tr>\n",
       "      <th>1</th>\n",
       "      <td>2022-08-01 12:01:00</td>\n",
       "      <td>68</td>\n",
       "    </tr>\n",
       "    <tr>\n",
       "      <th>2</th>\n",
       "      <td>2022-08-01 12:02:00</td>\n",
       "      <td>59</td>\n",
       "    </tr>\n",
       "  </tbody>\n",
       "</table>\n",
       "</div>"
      ],
      "text/plain": [
       "               t_came  id_webinar\n",
       "0 2022-08-01 12:00:00          83\n",
       "1 2022-08-01 12:01:00          68\n",
       "2 2022-08-01 12:02:00          59"
      ]
     },
     "execution_count": 262,
     "metadata": {},
     "output_type": "execute_result"
    }
   ],
   "source": [
    "cl_in.head(3)"
   ]
  },
  {
   "cell_type": "code",
   "execution_count": null,
   "id": "c3125dd3-55bd-4f02-a5ac-e0be184c3926",
   "metadata": {},
   "outputs": [],
   "source": [
    "cl_in['id_webinar_out'] = cl_out['id_webinar']"
   ]
  },
  {
   "cell_type": "code",
   "execution_count": null,
   "id": "3e0a9680-0195-4f98-82fa-34225f5604be",
   "metadata": {},
   "outputs": [
    {
     "data": {
      "text/html": [
       "<div>\n",
       "<style scoped>\n",
       "    .dataframe tbody tr th:only-of-type {\n",
       "        vertical-align: middle;\n",
       "    }\n",
       "\n",
       "    .dataframe tbody tr th {\n",
       "        vertical-align: top;\n",
       "    }\n",
       "\n",
       "    .dataframe thead th {\n",
       "        text-align: right;\n",
       "    }\n",
       "</style>\n",
       "<table border=\"1\" class=\"dataframe\">\n",
       "  <thead>\n",
       "    <tr style=\"text-align: right;\">\n",
       "      <th></th>\n",
       "      <th>t_came</th>\n",
       "      <th>id_webinar_in</th>\n",
       "      <th>t_left</th>\n",
       "      <th>id_webinar_o</th>\n",
       "      <th>id_webinar_out</th>\n",
       "    </tr>\n",
       "  </thead>\n",
       "  <tbody>\n",
       "    <tr>\n",
       "      <th>0</th>\n",
       "      <td>2022-08-01 12:00:00</td>\n",
       "      <td>83</td>\n",
       "      <td>2022-08-01 12:00:00</td>\n",
       "      <td>16</td>\n",
       "      <td>16</td>\n",
       "    </tr>\n",
       "    <tr>\n",
       "      <th>1</th>\n",
       "      <td>2022-08-01 12:01:00</td>\n",
       "      <td>68</td>\n",
       "      <td>2022-08-01 12:01:00</td>\n",
       "      <td>20</td>\n",
       "      <td>20</td>\n",
       "    </tr>\n",
       "    <tr>\n",
       "      <th>2</th>\n",
       "      <td>2022-08-01 12:02:00</td>\n",
       "      <td>59</td>\n",
       "      <td>2022-08-01 12:02:00</td>\n",
       "      <td>11</td>\n",
       "      <td>11</td>\n",
       "    </tr>\n",
       "    <tr>\n",
       "      <th>3</th>\n",
       "      <td>2022-08-01 12:03:00</td>\n",
       "      <td>53</td>\n",
       "      <td>2022-08-01 12:03:00</td>\n",
       "      <td>16</td>\n",
       "      <td>16</td>\n",
       "    </tr>\n",
       "    <tr>\n",
       "      <th>4</th>\n",
       "      <td>2022-08-01 12:04:00</td>\n",
       "      <td>46</td>\n",
       "      <td>2022-08-01 12:04:00</td>\n",
       "      <td>10</td>\n",
       "      <td>10</td>\n",
       "    </tr>\n",
       "    <tr>\n",
       "      <th>...</th>\n",
       "      <td>...</td>\n",
       "      <td>...</td>\n",
       "      <td>...</td>\n",
       "      <td>...</td>\n",
       "      <td>...</td>\n",
       "    </tr>\n",
       "    <tr>\n",
       "      <th>100</th>\n",
       "      <td>2022-08-01 13:50:00</td>\n",
       "      <td>7</td>\n",
       "      <td>2022-08-01 13:41:00</td>\n",
       "      <td>8</td>\n",
       "      <td>8</td>\n",
       "    </tr>\n",
       "    <tr>\n",
       "      <th>101</th>\n",
       "      <td>2022-08-01 13:51:00</td>\n",
       "      <td>7</td>\n",
       "      <td>2022-08-01 13:42:00</td>\n",
       "      <td>5</td>\n",
       "      <td>5</td>\n",
       "    </tr>\n",
       "    <tr>\n",
       "      <th>102</th>\n",
       "      <td>2022-08-01 13:52:00</td>\n",
       "      <td>7</td>\n",
       "      <td>2022-08-01 13:43:00</td>\n",
       "      <td>4</td>\n",
       "      <td>4</td>\n",
       "    </tr>\n",
       "    <tr>\n",
       "      <th>103</th>\n",
       "      <td>2022-08-01 13:53:00</td>\n",
       "      <td>7</td>\n",
       "      <td>2022-08-01 13:44:00</td>\n",
       "      <td>6</td>\n",
       "      <td>6</td>\n",
       "    </tr>\n",
       "    <tr>\n",
       "      <th>104</th>\n",
       "      <td>2022-08-01 13:54:00</td>\n",
       "      <td>6</td>\n",
       "      <td>2022-08-01 13:45:00</td>\n",
       "      <td>6</td>\n",
       "      <td>6</td>\n",
       "    </tr>\n",
       "  </tbody>\n",
       "</table>\n",
       "<p>105 rows × 5 columns</p>\n",
       "</div>"
      ],
      "text/plain": [
       "                 t_came  id_webinar_in              t_left  id_webinar_o  \\\n",
       "0   2022-08-01 12:00:00             83 2022-08-01 12:00:00            16   \n",
       "1   2022-08-01 12:01:00             68 2022-08-01 12:01:00            20   \n",
       "2   2022-08-01 12:02:00             59 2022-08-01 12:02:00            11   \n",
       "3   2022-08-01 12:03:00             53 2022-08-01 12:03:00            16   \n",
       "4   2022-08-01 12:04:00             46 2022-08-01 12:04:00            10   \n",
       "..                  ...            ...                 ...           ...   \n",
       "100 2022-08-01 13:50:00              7 2022-08-01 13:41:00             8   \n",
       "101 2022-08-01 13:51:00              7 2022-08-01 13:42:00             5   \n",
       "102 2022-08-01 13:52:00              7 2022-08-01 13:43:00             4   \n",
       "103 2022-08-01 13:53:00              7 2022-08-01 13:44:00             6   \n",
       "104 2022-08-01 13:54:00              6 2022-08-01 13:45:00             6   \n",
       "\n",
       "     id_webinar_out  \n",
       "0                16  \n",
       "1                20  \n",
       "2                11  \n",
       "3                16  \n",
       "4                10  \n",
       "..              ...  \n",
       "100               8  \n",
       "101               5  \n",
       "102               4  \n",
       "103               6  \n",
       "104               6  \n",
       "\n",
       "[105 rows x 5 columns]"
      ]
     },
     "execution_count": 269,
     "metadata": {},
     "output_type": "execute_result"
    }
   ],
   "source": [
    "cl_in.rename(columns={'id_webinar': 'id_webinar_in'})"
   ]
  },
  {
   "cell_type": "code",
   "execution_count": 272,
   "id": "4d77f7f1-46e3-4032-b1c0-c12a42180893",
   "metadata": {},
   "outputs": [],
   "source": [
    "cl_in = cl_in_out"
   ]
  },
  {
   "cell_type": "code",
   "execution_count": 273,
   "id": "3ac88e6a-6e3e-4949-a842-ad348ca67e3d",
   "metadata": {},
   "outputs": [
    {
     "data": {
      "text/html": [
       "<div>\n",
       "<style scoped>\n",
       "    .dataframe tbody tr th:only-of-type {\n",
       "        vertical-align: middle;\n",
       "    }\n",
       "\n",
       "    .dataframe tbody tr th {\n",
       "        vertical-align: top;\n",
       "    }\n",
       "\n",
       "    .dataframe thead th {\n",
       "        text-align: right;\n",
       "    }\n",
       "</style>\n",
       "<table border=\"1\" class=\"dataframe\">\n",
       "  <thead>\n",
       "    <tr style=\"text-align: right;\">\n",
       "      <th></th>\n",
       "      <th>t_came</th>\n",
       "      <th>id_webinar</th>\n",
       "      <th>t_left</th>\n",
       "      <th>id_webinar_out</th>\n",
       "    </tr>\n",
       "  </thead>\n",
       "  <tbody>\n",
       "    <tr>\n",
       "      <th>0</th>\n",
       "      <td>2022-08-01 12:00:00</td>\n",
       "      <td>83</td>\n",
       "      <td>2022-08-01 12:00:00</td>\n",
       "      <td>16</td>\n",
       "    </tr>\n",
       "    <tr>\n",
       "      <th>1</th>\n",
       "      <td>2022-08-01 12:01:00</td>\n",
       "      <td>68</td>\n",
       "      <td>2022-08-01 12:01:00</td>\n",
       "      <td>20</td>\n",
       "    </tr>\n",
       "    <tr>\n",
       "      <th>2</th>\n",
       "      <td>2022-08-01 12:02:00</td>\n",
       "      <td>59</td>\n",
       "      <td>2022-08-01 12:02:00</td>\n",
       "      <td>11</td>\n",
       "    </tr>\n",
       "    <tr>\n",
       "      <th>3</th>\n",
       "      <td>2022-08-01 12:03:00</td>\n",
       "      <td>53</td>\n",
       "      <td>2022-08-01 12:03:00</td>\n",
       "      <td>16</td>\n",
       "    </tr>\n",
       "    <tr>\n",
       "      <th>4</th>\n",
       "      <td>2022-08-01 12:04:00</td>\n",
       "      <td>46</td>\n",
       "      <td>2022-08-01 12:04:00</td>\n",
       "      <td>10</td>\n",
       "    </tr>\n",
       "    <tr>\n",
       "      <th>...</th>\n",
       "      <td>...</td>\n",
       "      <td>...</td>\n",
       "      <td>...</td>\n",
       "      <td>...</td>\n",
       "    </tr>\n",
       "    <tr>\n",
       "      <th>100</th>\n",
       "      <td>2022-08-01 13:50:00</td>\n",
       "      <td>7</td>\n",
       "      <td>2022-08-01 13:41:00</td>\n",
       "      <td>8</td>\n",
       "    </tr>\n",
       "    <tr>\n",
       "      <th>101</th>\n",
       "      <td>2022-08-01 13:51:00</td>\n",
       "      <td>7</td>\n",
       "      <td>2022-08-01 13:42:00</td>\n",
       "      <td>5</td>\n",
       "    </tr>\n",
       "    <tr>\n",
       "      <th>102</th>\n",
       "      <td>2022-08-01 13:52:00</td>\n",
       "      <td>7</td>\n",
       "      <td>2022-08-01 13:43:00</td>\n",
       "      <td>4</td>\n",
       "    </tr>\n",
       "    <tr>\n",
       "      <th>103</th>\n",
       "      <td>2022-08-01 13:53:00</td>\n",
       "      <td>7</td>\n",
       "      <td>2022-08-01 13:44:00</td>\n",
       "      <td>6</td>\n",
       "    </tr>\n",
       "    <tr>\n",
       "      <th>104</th>\n",
       "      <td>2022-08-01 13:54:00</td>\n",
       "      <td>6</td>\n",
       "      <td>2022-08-01 13:45:00</td>\n",
       "      <td>6</td>\n",
       "    </tr>\n",
       "  </tbody>\n",
       "</table>\n",
       "<p>105 rows × 4 columns</p>\n",
       "</div>"
      ],
      "text/plain": [
       "                 t_came  id_webinar              t_left  id_webinar_out\n",
       "0   2022-08-01 12:00:00          83 2022-08-01 12:00:00              16\n",
       "1   2022-08-01 12:01:00          68 2022-08-01 12:01:00              20\n",
       "2   2022-08-01 12:02:00          59 2022-08-01 12:02:00              11\n",
       "3   2022-08-01 12:03:00          53 2022-08-01 12:03:00              16\n",
       "4   2022-08-01 12:04:00          46 2022-08-01 12:04:00              10\n",
       "..                  ...         ...                 ...             ...\n",
       "100 2022-08-01 13:50:00           7 2022-08-01 13:41:00               8\n",
       "101 2022-08-01 13:51:00           7 2022-08-01 13:42:00               5\n",
       "102 2022-08-01 13:52:00           7 2022-08-01 13:43:00               4\n",
       "103 2022-08-01 13:53:00           7 2022-08-01 13:44:00               6\n",
       "104 2022-08-01 13:54:00           6 2022-08-01 13:45:00               6\n",
       "\n",
       "[105 rows x 4 columns]"
      ]
     },
     "execution_count": 273,
     "metadata": {},
     "output_type": "execute_result"
    }
   ],
   "source": [
    "cl_in_out.drop(columns = ['id_webinar_o'],axis = 1)"
   ]
  },
  {
   "cell_type": "code",
   "execution_count": 280,
   "id": "38a416c2-bfff-468c-9b68-d219954144c1",
   "metadata": {},
   "outputs": [
    {
     "data": {
      "image/png": "[encoded data removed]",
      "text/plain": [
       "<Figure size 1296x576 with 1 Axes>"
      ]
     },
     "metadata": {
      "needs_background": "light"
     },
     "output_type": "display_data"
    }
   ],
   "source": [
    "plt.figure(figsize=(18,8))\n",
    "sns.lineplot(data=cl_in_out)\n",
    "plt.axvline(x=15, color='r', linestyle='--')\n",
    "plt.axvline(x=50, color='r', linestyle='--')\n",
    "plt.axvline(x=65, color='r', linestyle='--')\n",
    "plt.grid() "
   ]
  },
  {
   "cell_type": "code",
   "execution_count": 282,
   "id": "78970006-3c98-4413-bcb8-0282b310645c",
   "metadata": {},
   "outputs": [],
   "source": [
    "df_logs_cl['t_stay'] = df_logs_cl['t_left'] - df_logs_cl['t_came']"
   ]
  },
  {
   "cell_type": "code",
   "execution_count": 287,
   "id": "8674a8da-be31-4274-8266-933cd1ddba0b",
   "metadata": {},
   "outputs": [
    {
     "data": {
      "text/html": [
       "<div>\n",
       "<style scoped>\n",
       "    .dataframe tbody tr th:only-of-type {\n",
       "        vertical-align: middle;\n",
       "    }\n",
       "\n",
       "    .dataframe tbody tr th {\n",
       "        vertical-align: top;\n",
       "    }\n",
       "\n",
       "    .dataframe thead th {\n",
       "        text-align: right;\n",
       "    }\n",
       "</style>\n",
       "<table border=\"1\" class=\"dataframe\">\n",
       "  <thead>\n",
       "    <tr style=\"text-align: right;\">\n",
       "      <th></th>\n",
       "      <th>id_webinar</th>\n",
       "      <th>id_user</th>\n",
       "      <th>t_came</th>\n",
       "      <th>t_left</th>\n",
       "      <th>source</th>\n",
       "      <th>t_stay</th>\n",
       "    </tr>\n",
       "  </thead>\n",
       "  <tbody>\n",
       "    <tr>\n",
       "      <th>0</th>\n",
       "      <td>1341312</td>\n",
       "      <td>34217410</td>\n",
       "      <td>2022-08-01 12:25:00</td>\n",
       "      <td>2022-08-01 13:00:00</td>\n",
       "      <td>?utm_source=telegram%adv=public2L%POR%9677%A</td>\n",
       "      <td>0 days 00:35:00</td>\n",
       "    </tr>\n",
       "    <tr>\n",
       "      <th>1</th>\n",
       "      <td>1341312</td>\n",
       "      <td>34322153</td>\n",
       "      <td>2022-08-01 12:03:00</td>\n",
       "      <td>2022-08-01 12:23:00</td>\n",
       "      <td>?utm_source=telegram%adv=public3I%QDX%8153%K</td>\n",
       "      <td>0 days 00:20:00</td>\n",
       "    </tr>\n",
       "    <tr>\n",
       "      <th>2</th>\n",
       "      <td>1341312</td>\n",
       "      <td>34386258</td>\n",
       "      <td>2022-08-01 12:43:00</td>\n",
       "      <td>2022-08-01 13:14:00</td>\n",
       "      <td>?utm_source=instagram%placement=blogger1H%SYP%...</td>\n",
       "      <td>0 days 00:31:00</td>\n",
       "    </tr>\n",
       "  </tbody>\n",
       "</table>\n",
       "</div>"
      ],
      "text/plain": [
       "   id_webinar   id_user              t_came              t_left  \\\n",
       "0     1341312  34217410 2022-08-01 12:25:00 2022-08-01 13:00:00   \n",
       "1     1341312  34322153 2022-08-01 12:03:00 2022-08-01 12:23:00   \n",
       "2     1341312  34386258 2022-08-01 12:43:00 2022-08-01 13:14:00   \n",
       "\n",
       "                                              source          t_stay  \n",
       "0       ?utm_source=telegram%adv=public2L%POR%9677%A 0 days 00:35:00  \n",
       "1       ?utm_source=telegram%adv=public3I%QDX%8153%K 0 days 00:20:00  \n",
       "2  ?utm_source=instagram%placement=blogger1H%SYP%... 0 days 00:31:00  "
      ]
     },
     "execution_count": 287,
     "metadata": {},
     "output_type": "execute_result"
    }
   ],
   "source": [
    "df_logs_cl.head(3)"
   ]
  },
  {
   "cell_type": "code",
   "execution_count": 301,
   "id": "96ca3544-a6b2-4f38-ac69-52eeb7e261a2",
   "metadata": {},
   "outputs": [
    {
     "data": {
      "text/plain": [
       "0        True\n",
       "1       False\n",
       "2       False\n",
       "3       False\n",
       "4        True\n",
       "        ...  \n",
       "1430    False\n",
       "1431    False\n",
       "1432    False\n",
       "1433    False\n",
       "1434    False\n",
       "Name: source, Length: 1435, dtype: bool"
      ]
     },
     "execution_count": 301,
     "metadata": {},
     "output_type": "execute_result"
    }
   ],
   "source": [
    "df_logs_cl.source.map(lambda x: 'public2' in x)\n"
   ]
  },
  {
   "cell_type": "code",
   "execution_count": 317,
   "id": "fc5c44ca-fc25-4a45-8e3f-559b1fb269c6",
   "metadata": {},
   "outputs": [],
   "source": [
    "insta_b1 = df_logs_cl.source.map(lambda x: 'blogger1' in x)\n",
    "insta_b2 = df_logs_cl.source.map(lambda x: 'blogger2' in x)\n",
    "insta_b3 = df_logs_cl.source.map(lambda x: 'blogger3' in x)\n",
    "insta_b4 = df_logs_cl.source.map(lambda x: 'blogger4' in x)\n",
    "\n",
    "tg_p1 = df_logs_cl.source.map(lambda x: 'public1' in x)\n",
    "tg_p2 = df_logs_cl.source.map(lambda x: 'public2' in x)\n",
    "tg_p3 = df_logs_cl.source.map(lambda x: 'public3' in x)\n",
    "tg_p4 = df_logs_cl.source.map(lambda x: 'public4' in x)\n",
    "\n",
    "vk_g1 = df_logs_cl.source.map(lambda x: 'group1' in x)\n",
    "vk_g2 = df_logs_cl.source.map(lambda x: 'group2' in x)\n",
    "vk_g3 = df_logs_cl.source.map(lambda x: 'group3' in x)\n",
    "\n",
    "fb_s1 = df_logs_cl.source.map(lambda x: 'source1' in x)\n",
    "fb_s2 = df_logs_cl.source.map(lambda x: 'source2' in x)\n",
    "fb_s3 = df_logs_cl.source.map(lambda x: 'source3' in x)"
   ]
  },
  {
   "cell_type": "code",
   "execution_count": 318,
   "id": "89f6c418-201f-45c6-97b6-fe965044f5d3",
   "metadata": {},
   "outputs": [],
   "source": [
    "df_logs_cl['insta_b1']=insta_b1\n",
    "df_logs_cl['insta_b2']=insta_b2\n",
    "df_logs_cl['insta_b3']=insta_b3\n",
    "df_logs_cl['insta_b4']=insta_b4\n",
    "\n",
    "df_logs_cl['tg_p1']=tg_p1\n",
    "df_logs_cl['tg_p2']=tg_p2\n",
    "df_logs_cl['tg_p3']=tg_p3\n",
    "df_logs_cl['tg_p4']=tg_p4\n",
    "\n",
    "\n",
    "df_logs_cl['vk_g1']=vk_g1\n",
    "df_logs_cl['vk_g2']=vk_g2\n",
    "df_logs_cl['vk_g3']=vk_g3\n",
    "\n",
    "df_logs_cl['fb_s1']=fb_s1\n",
    "df_logs_cl['fb_s2']=fb_s2\n",
    "df_logs_cl['fb_s3']=fb_s3"
   ]
  },
  {
   "cell_type": "code",
   "execution_count": 320,
   "id": "3a00f661-6de8-458b-b146-7bef8cfd0c10",
   "metadata": {},
   "outputs": [
    {
     "data": {
      "text/html": [
       "<div>\n",
       "<style scoped>\n",
       "    .dataframe tbody tr th:only-of-type {\n",
       "        vertical-align: middle;\n",
       "    }\n",
       "\n",
       "    .dataframe tbody tr th {\n",
       "        vertical-align: top;\n",
       "    }\n",
       "\n",
       "    .dataframe thead th {\n",
       "        text-align: right;\n",
       "    }\n",
       "</style>\n",
       "<table border=\"1\" class=\"dataframe\">\n",
       "  <thead>\n",
       "    <tr style=\"text-align: right;\">\n",
       "      <th></th>\n",
       "      <th>id_webinar</th>\n",
       "      <th>id_user</th>\n",
       "      <th>t_came</th>\n",
       "      <th>t_left</th>\n",
       "      <th>source</th>\n",
       "      <th>t_stay</th>\n",
       "      <th>insta_b1</th>\n",
       "      <th>insta_b2</th>\n",
       "      <th>insta_b3</th>\n",
       "      <th>insta_b4</th>\n",
       "      <th>tg_p1</th>\n",
       "      <th>tg_p2</th>\n",
       "      <th>tg_p3</th>\n",
       "      <th>tg_p4</th>\n",
       "      <th>vk_g1</th>\n",
       "      <th>vk_g2</th>\n",
       "      <th>vk_g3</th>\n",
       "      <th>fb_s1</th>\n",
       "      <th>fb_s2</th>\n",
       "      <th>fb_s3</th>\n",
       "    </tr>\n",
       "  </thead>\n",
       "  <tbody>\n",
       "    <tr>\n",
       "      <th>0</th>\n",
       "      <td>1341312</td>\n",
       "      <td>34217410</td>\n",
       "      <td>2022-08-01 12:25:00</td>\n",
       "      <td>2022-08-01 13:00:00</td>\n",
       "      <td>?utm_source=telegram%adv=public2L%POR%9677%A</td>\n",
       "      <td>0 days 00:35:00</td>\n",
       "      <td>False</td>\n",
       "      <td>False</td>\n",
       "      <td>False</td>\n",
       "      <td>False</td>\n",
       "      <td>False</td>\n",
       "      <td>True</td>\n",
       "      <td>False</td>\n",
       "      <td>False</td>\n",
       "      <td>False</td>\n",
       "      <td>False</td>\n",
       "      <td>False</td>\n",
       "      <td>False</td>\n",
       "      <td>False</td>\n",
       "      <td>False</td>\n",
       "    </tr>\n",
       "    <tr>\n",
       "      <th>1</th>\n",
       "      <td>1341312</td>\n",
       "      <td>34322153</td>\n",
       "      <td>2022-08-01 12:03:00</td>\n",
       "      <td>2022-08-01 12:23:00</td>\n",
       "      <td>?utm_source=telegram%adv=public3I%QDX%8153%K</td>\n",
       "      <td>0 days 00:20:00</td>\n",
       "      <td>False</td>\n",
       "      <td>False</td>\n",
       "      <td>False</td>\n",
       "      <td>False</td>\n",
       "      <td>False</td>\n",
       "      <td>False</td>\n",
       "      <td>True</td>\n",
       "      <td>False</td>\n",
       "      <td>False</td>\n",
       "      <td>False</td>\n",
       "      <td>False</td>\n",
       "      <td>False</td>\n",
       "      <td>False</td>\n",
       "      <td>False</td>\n",
       "    </tr>\n",
       "    <tr>\n",
       "      <th>2</th>\n",
       "      <td>1341312</td>\n",
       "      <td>34386258</td>\n",
       "      <td>2022-08-01 12:43:00</td>\n",
       "      <td>2022-08-01 13:14:00</td>\n",
       "      <td>?utm_source=instagram%placement=blogger1H%SYP%...</td>\n",
       "      <td>0 days 00:31:00</td>\n",
       "      <td>True</td>\n",
       "      <td>False</td>\n",
       "      <td>False</td>\n",
       "      <td>False</td>\n",
       "      <td>False</td>\n",
       "      <td>False</td>\n",
       "      <td>False</td>\n",
       "      <td>False</td>\n",
       "      <td>False</td>\n",
       "      <td>False</td>\n",
       "      <td>False</td>\n",
       "      <td>False</td>\n",
       "      <td>False</td>\n",
       "      <td>False</td>\n",
       "    </tr>\n",
       "  </tbody>\n",
       "</table>\n",
       "</div>"
      ],
      "text/plain": [
       "   id_webinar   id_user              t_came              t_left  \\\n",
       "0     1341312  34217410 2022-08-01 12:25:00 2022-08-01 13:00:00   \n",
       "1     1341312  34322153 2022-08-01 12:03:00 2022-08-01 12:23:00   \n",
       "2     1341312  34386258 2022-08-01 12:43:00 2022-08-01 13:14:00   \n",
       "\n",
       "                                              source          t_stay  \\\n",
       "0       ?utm_source=telegram%adv=public2L%POR%9677%A 0 days 00:35:00   \n",
       "1       ?utm_source=telegram%adv=public3I%QDX%8153%K 0 days 00:20:00   \n",
       "2  ?utm_source=instagram%placement=blogger1H%SYP%... 0 days 00:31:00   \n",
       "\n",
       "   insta_b1  insta_b2  insta_b3  insta_b4  tg_p1  tg_p2  tg_p3  tg_p4  vk_g1  \\\n",
       "0     False     False     False     False  False   True  False  False  False   \n",
       "1     False     False     False     False  False  False   True  False  False   \n",
       "2      True     False     False     False  False  False  False  False  False   \n",
       "\n",
       "   vk_g2  vk_g3  fb_s1  fb_s2  fb_s3  \n",
       "0  False  False  False  False  False  \n",
       "1  False  False  False  False  False  \n",
       "2  False  False  False  False  False  "
      ]
     },
     "execution_count": 320,
     "metadata": {},
     "output_type": "execute_result"
    }
   ],
   "source": [
    "df_logs_cl.head(3)"
   ]
  },
  {
   "cell_type": "code",
   "execution_count": 321,
   "id": "c5477762-57c2-43e5-a373-90c7391f2545",
   "metadata": {},
   "outputs": [],
   "source": [
    "df_logs_cl_ch = df_logs_cl[['id_user','t_stay','insta_b1','insta_b2','insta_b3','insta_b4','tg_p1','tg_p2','tg_p3','tg_p4','vk_g1','vk_g2','vk_g3','fb_s1','fb_s2','fb_s3']]"
   ]
  },
  {
   "cell_type": "code",
   "execution_count": 323,
   "id": "6fa812bf-1030-45b0-9c1b-cedd9bd5e2a6",
   "metadata": {},
   "outputs": [
    {
     "data": {
      "text/html": [
       "<div>\n",
       "<style scoped>\n",
       "    .dataframe tbody tr th:only-of-type {\n",
       "        vertical-align: middle;\n",
       "    }\n",
       "\n",
       "    .dataframe tbody tr th {\n",
       "        vertical-align: top;\n",
       "    }\n",
       "\n",
       "    .dataframe thead th {\n",
       "        text-align: right;\n",
       "    }\n",
       "</style>\n",
       "<table border=\"1\" class=\"dataframe\">\n",
       "  <thead>\n",
       "    <tr style=\"text-align: right;\">\n",
       "      <th></th>\n",
       "      <th>id_user</th>\n",
       "      <th>t_stay</th>\n",
       "      <th>insta_b1</th>\n",
       "      <th>insta_b2</th>\n",
       "      <th>insta_b3</th>\n",
       "      <th>insta_b4</th>\n",
       "      <th>tg_p1</th>\n",
       "      <th>tg_p2</th>\n",
       "      <th>tg_p3</th>\n",
       "      <th>tg_p4</th>\n",
       "      <th>vk_g1</th>\n",
       "      <th>vk_g2</th>\n",
       "      <th>vk_g3</th>\n",
       "      <th>fb_s1</th>\n",
       "      <th>fb_s2</th>\n",
       "      <th>fb_s3</th>\n",
       "    </tr>\n",
       "  </thead>\n",
       "  <tbody>\n",
       "    <tr>\n",
       "      <th>0</th>\n",
       "      <td>34217410</td>\n",
       "      <td>0 days 00:35:00</td>\n",
       "      <td>False</td>\n",
       "      <td>False</td>\n",
       "      <td>False</td>\n",
       "      <td>False</td>\n",
       "      <td>False</td>\n",
       "      <td>True</td>\n",
       "      <td>False</td>\n",
       "      <td>False</td>\n",
       "      <td>False</td>\n",
       "      <td>False</td>\n",
       "      <td>False</td>\n",
       "      <td>False</td>\n",
       "      <td>False</td>\n",
       "      <td>False</td>\n",
       "    </tr>\n",
       "    <tr>\n",
       "      <th>1</th>\n",
       "      <td>34322153</td>\n",
       "      <td>0 days 00:20:00</td>\n",
       "      <td>False</td>\n",
       "      <td>False</td>\n",
       "      <td>False</td>\n",
       "      <td>False</td>\n",
       "      <td>False</td>\n",
       "      <td>False</td>\n",
       "      <td>True</td>\n",
       "      <td>False</td>\n",
       "      <td>False</td>\n",
       "      <td>False</td>\n",
       "      <td>False</td>\n",
       "      <td>False</td>\n",
       "      <td>False</td>\n",
       "      <td>False</td>\n",
       "    </tr>\n",
       "    <tr>\n",
       "      <th>2</th>\n",
       "      <td>34386258</td>\n",
       "      <td>0 days 00:31:00</td>\n",
       "      <td>True</td>\n",
       "      <td>False</td>\n",
       "      <td>False</td>\n",
       "      <td>False</td>\n",
       "      <td>False</td>\n",
       "      <td>False</td>\n",
       "      <td>False</td>\n",
       "      <td>False</td>\n",
       "      <td>False</td>\n",
       "      <td>False</td>\n",
       "      <td>False</td>\n",
       "      <td>False</td>\n",
       "      <td>False</td>\n",
       "      <td>False</td>\n",
       "    </tr>\n",
       "  </tbody>\n",
       "</table>\n",
       "</div>"
      ],
      "text/plain": [
       "    id_user          t_stay  insta_b1  insta_b2  insta_b3  insta_b4  tg_p1  \\\n",
       "0  34217410 0 days 00:35:00     False     False     False     False  False   \n",
       "1  34322153 0 days 00:20:00     False     False     False     False  False   \n",
       "2  34386258 0 days 00:31:00      True     False     False     False  False   \n",
       "\n",
       "   tg_p2  tg_p3  tg_p4  vk_g1  vk_g2  vk_g3  fb_s1  fb_s2  fb_s3  \n",
       "0   True  False  False  False  False  False  False  False  False  \n",
       "1  False   True  False  False  False  False  False  False  False  \n",
       "2  False  False  False  False  False  False  False  False  False  "
      ]
     },
     "execution_count": 323,
     "metadata": {},
     "output_type": "execute_result"
    }
   ],
   "source": [
    "df_logs_cl_ch.head(3)"
   ]
  },
  {
   "cell_type": "code",
   "execution_count": 329,
   "id": "0e961e11-5e8e-4369-9174-4af4b2cf3604",
   "metadata": {},
   "outputs": [
    {
     "data": {
      "text/plain": [
       "insta_b1\n",
       "False   0 days 00:26:38.804091266\n",
       "True    0 days 00:25:33.292682926\n",
       "Name: t_stay, dtype: timedelta64[ns]"
      ]
     },
     "execution_count": 329,
     "metadata": {},
     "output_type": "execute_result"
    }
   ],
   "source": [
    "df_logs_cl_ch.groupby('insta_b1').t_stay.mean()"
   ]
  },
  {
   "cell_type": "code",
   "execution_count": 330,
   "id": "70ff4f5f-3858-496c-81cb-af690b0dae67",
   "metadata": {},
   "outputs": [
    {
     "data": {
      "text/plain": [
       "insta_b2\n",
       "False   0 days 00:26:35.650224215\n",
       "True    0 days 00:25:31.546391752\n",
       "Name: t_stay, dtype: timedelta64[ns]"
      ]
     },
     "execution_count": 330,
     "metadata": {},
     "output_type": "execute_result"
    }
   ],
   "source": [
    "df_logs_cl_ch.groupby('insta_b2').t_stay.mean()"
   ]
  },
  {
   "cell_type": "code",
   "execution_count": 331,
   "id": "66db59c2-ef22-4f26-a865-d3687f4d081b",
   "metadata": {},
   "outputs": [
    {
     "data": {
      "text/plain": [
       "insta_b3\n",
       "False   0 days 00:26:24.687264506\n",
       "True    0 days 00:27:52.777777777\n",
       "Name: t_stay, dtype: timedelta64[ns]"
      ]
     },
     "execution_count": 331,
     "metadata": {},
     "output_type": "execute_result"
    }
   ],
   "source": [
    "df_logs_cl_ch.groupby('insta_b3').t_stay.mean()"
   ]
  },
  {
   "cell_type": "code",
   "execution_count": 332,
   "id": "020cbfce-c386-4948-9bdd-7164617643ff",
   "metadata": {},
   "outputs": [
    {
     "data": {
      "text/plain": [
       "insta_b4\n",
       "False   0 days 00:26:16.957494407\n",
       "True    0 days 00:29:56.170212765\n",
       "Name: t_stay, dtype: timedelta64[ns]"
      ]
     },
     "execution_count": 332,
     "metadata": {},
     "output_type": "execute_result"
    }
   ],
   "source": [
    "df_logs_cl_ch.groupby('insta_b4').t_stay.mean()"
   ]
  },
  {
   "cell_type": "code",
   "execution_count": 333,
   "id": "73b2650c-29de-492c-8187-92a724dc1211",
   "metadata": {},
   "outputs": [
    {
     "data": {
      "text/plain": [
       "tg_p1\n",
       "False   0 days 00:26:29.761526232\n",
       "True    0 days 00:26:42.372881355\n",
       "Name: t_stay, dtype: timedelta64[ns]"
      ]
     },
     "execution_count": 333,
     "metadata": {},
     "output_type": "execute_result"
    }
   ],
   "source": [
    "df_logs_cl_ch.groupby('tg_p1').t_stay.mean()"
   ]
  },
  {
   "cell_type": "code",
   "execution_count": 334,
   "id": "93d6b8b5-bee8-4e09-ad76-a6f662f6aaf6",
   "metadata": {},
   "outputs": [
    {
     "data": {
      "text/plain": [
       "tg_p2\n",
       "False   0 days 00:26:25.978915662\n",
       "True    0 days 00:27:37.570093457\n",
       "Name: t_stay, dtype: timedelta64[ns]"
      ]
     },
     "execution_count": 334,
     "metadata": {},
     "output_type": "execute_result"
    }
   ],
   "source": [
    "df_logs_cl_ch.groupby('tg_p2').t_stay.mean()"
   ]
  },
  {
   "cell_type": "code",
   "execution_count": 335,
   "id": "9e92be72-0024-445d-92ac-395d502abd17",
   "metadata": {},
   "outputs": [
    {
     "data": {
      "text/plain": [
       "tg_p3\n",
       "False   0 days 00:26:42.970007315\n",
       "True    0 days 00:22:37.058823529\n",
       "Name: t_stay, dtype: timedelta64[ns]"
      ]
     },
     "execution_count": 335,
     "metadata": {},
     "output_type": "execute_result"
    }
   ],
   "source": [
    "df_logs_cl_ch.groupby('tg_p3').t_stay.mean()"
   ]
  },
  {
   "cell_type": "code",
   "execution_count": 337,
   "id": "53d5462c-edc7-4b24-b89a-f64cbd352ea4",
   "metadata": {},
   "outputs": [
    {
     "data": {
      "text/plain": [
       "vk_g1\n",
       "False   0 days 00:26:23.073561544\n",
       "True    0 days 00:29:33.870967741\n",
       "Name: t_stay, dtype: timedelta64[ns]"
      ]
     },
     "execution_count": 337,
     "metadata": {},
     "output_type": "execute_result"
    }
   ],
   "source": [
    "df_logs_cl_ch.groupby('vk_g1').t_stay.mean()"
   ]
  },
  {
   "cell_type": "code",
   "execution_count": 338,
   "id": "a4513345-e85c-479e-9718-ec4c67d98da2",
   "metadata": {},
   "outputs": [
    {
     "data": {
      "text/plain": [
       "vk_g2\n",
       "False   0 days 00:26:28.608695652\n",
       "True    0 days 00:27:39.272727272\n",
       "Name: t_stay, dtype: timedelta64[ns]"
      ]
     },
     "execution_count": 338,
     "metadata": {},
     "output_type": "execute_result"
    }
   ],
   "source": [
    "df_logs_cl_ch.groupby('vk_g2').t_stay.mean()"
   ]
  },
  {
   "cell_type": "code",
   "execution_count": 339,
   "id": "cae13a9c-b64f-4d33-854a-34f38d5941af",
   "metadata": {},
   "outputs": [
    {
     "data": {
      "text/plain": [
       "vk_g3\n",
       "False   0 days 00:26:29.320113314\n",
       "True    0 days 00:28:33.913043478\n",
       "Name: t_stay, dtype: timedelta64[ns]"
      ]
     },
     "execution_count": 339,
     "metadata": {},
     "output_type": "execute_result"
    }
   ],
   "source": [
    "df_logs_cl_ch.groupby('vk_g3').t_stay.mean()"
   ]
  },
  {
   "cell_type": "code",
   "execution_count": 341,
   "id": "df124b4f-a1c1-4968-9d31-3c1ff1da22e7",
   "metadata": {},
   "outputs": [
    {
     "data": {
      "text/plain": [
       "fb_s1\n",
       "False   0 days 00:26:38.473954512\n",
       "True    0 days 00:24:15.833333333\n",
       "Name: t_stay, dtype: timedelta64[ns]"
      ]
     },
     "execution_count": 341,
     "metadata": {},
     "output_type": "execute_result"
    }
   ],
   "source": [
    "df_logs_cl_ch.groupby('fb_s1').t_stay.mean()"
   ]
  },
  {
   "cell_type": "code",
   "execution_count": 342,
   "id": "a404b581-cd75-4d47-a40e-04b6ff26014e",
   "metadata": {},
   "outputs": [
    {
     "data": {
      "text/plain": [
       "fb_s2\n",
       "False   0 days 00:26:52.385321100\n",
       "True    0 days 00:22:54.330708661\n",
       "Name: t_stay, dtype: timedelta64[ns]"
      ]
     },
     "execution_count": 342,
     "metadata": {},
     "output_type": "execute_result"
    }
   ],
   "source": [
    "df_logs_cl_ch.groupby('fb_s2').t_stay.mean()"
   ]
  },
  {
   "cell_type": "code",
   "execution_count": 343,
   "id": "b3038945-8658-46f9-b10e-4235bd8f4bc4",
   "metadata": {},
   "outputs": [
    {
     "data": {
      "text/plain": [
       "fb_s3\n",
       "False   0 days 00:26:17.328358208\n",
       "True    0 days 00:29:48.631578947\n",
       "Name: t_stay, dtype: timedelta64[ns]"
      ]
     },
     "execution_count": 343,
     "metadata": {},
     "output_type": "execute_result"
    }
   ],
   "source": [
    "df_logs_cl_ch.groupby('fb_s3').t_stay.mean()"
   ]
  },
  {
   "cell_type": "code",
   "execution_count": 348,
   "id": "2337b9a5-180c-4242-a43e-f016a523d77d",
   "metadata": {},
   "outputs": [
    {
     "ename": "SyntaxError",
     "evalue": "invalid syntax (2745327197.py, line 1)",
     "output_type": "error",
     "traceback": [
      "\u001b[1;36m  Input \u001b[1;32mIn [348]\u001b[1;36m\u001b[0m\n\u001b[1;33m    insta_b1=0 days 00:25:33.292682926\u001b[0m\n\u001b[1;37m               ^\u001b[0m\n\u001b[1;31mSyntaxError\u001b[0m\u001b[1;31m:\u001b[0m invalid syntax\n"
     ]
    }
   ],
   "source": [
    "insta_b1=0 days 00:25:33.292682926\n",
    "insta_b2=0 days 00:25:31.546391752\n",
    "insta_b3=0 days 00:27:52.777777777\n",
    "insta_b4=0 days 00:29:56.170212765\n",
    "\n",
    "tg_p1=0 days 00:26:42.372881355\n",
    "tg_p2=0 days 00:27:37.570093457\n",
    "tg_p3=0 days 00:22:37.058823529\n",
    "\n",
    "vk_g1=0 days 00:29:33.870967741\n",
    "vk_g2=0 days 00:27:39.272727272\n",
    "vk_g3=0 days 00:28:33.913043478\n",
    "\n",
    "fb_s1=0 days 00:24:15.833333333\n",
    "fb_s2=0 days 00:22:54.330708661\n",
    "fb_s3=0 days 00:29:48.631578947"
   ]
  },
  {
   "cell_type": "code",
   "execution_count": 349,
   "id": "38cdc55e-aba1-4fd8-ab19-fe7216aaccb3",
   "metadata": {},
   "outputs": [
    {
     "data": {
      "text/html": [
       "<div>\n",
       "<style scoped>\n",
       "    .dataframe tbody tr th:only-of-type {\n",
       "        vertical-align: middle;\n",
       "    }\n",
       "\n",
       "    .dataframe tbody tr th {\n",
       "        vertical-align: top;\n",
       "    }\n",
       "\n",
       "    .dataframe thead th {\n",
       "        text-align: right;\n",
       "    }\n",
       "</style>\n",
       "<table border=\"1\" class=\"dataframe\">\n",
       "  <thead>\n",
       "    <tr style=\"text-align: right;\">\n",
       "      <th></th>\n",
       "      <th>insta_b1</th>\n",
       "      <th>insta_b2</th>\n",
       "      <th>insta_b3</th>\n",
       "      <th>insta_b4</th>\n",
       "      <th>tg_p1</th>\n",
       "      <th>tg_p2</th>\n",
       "      <th>tg_p3</th>\n",
       "      <th>vk_g1</th>\n",
       "      <th>vk_g2</th>\n",
       "      <th>vk_g3</th>\n",
       "      <th>fb_s1</th>\n",
       "      <th>fb_s2</th>\n",
       "      <th>fb_s3</th>\n",
       "    </tr>\n",
       "  </thead>\n",
       "  <tbody>\n",
       "    <tr>\n",
       "      <th>0</th>\n",
       "      <td>25.33</td>\n",
       "      <td>25.31</td>\n",
       "      <td>27.52</td>\n",
       "      <td>29.56</td>\n",
       "      <td>26.42</td>\n",
       "      <td>27.37</td>\n",
       "      <td>22.37</td>\n",
       "      <td>29.33</td>\n",
       "      <td>27.39</td>\n",
       "      <td>28.33</td>\n",
       "      <td>24.15</td>\n",
       "      <td>22.54</td>\n",
       "      <td>29.48</td>\n",
       "    </tr>\n",
       "  </tbody>\n",
       "</table>\n",
       "</div>"
      ],
      "text/plain": [
       "   insta_b1  insta_b2  insta_b3  insta_b4  tg_p1  tg_p2  tg_p3  vk_g1  vk_g2  \\\n",
       "0     25.33     25.31     27.52     29.56  26.42  27.37  22.37  29.33  27.39   \n",
       "\n",
       "   vk_g3  fb_s1  fb_s2  fb_s3  \n",
       "0  28.33  24.15  22.54  29.48  "
      ]
     },
     "execution_count": 349,
     "metadata": {},
     "output_type": "execute_result"
    }
   ],
   "source": [
    "stay_by_channels = pd.DataFrame({'insta_b1':[25.33],\n",
    "                                'insta_b2':[25.31],\n",
    "                                'insta_b3':[27.52],\n",
    "                                'insta_b4':[29.56],\n",
    "                                'tg_p1':[26.42],\n",
    "                                'tg_p2':[27.37],\n",
    "                                'tg_p3':[22.37],\n",
    "                                'vk_g1':[29.33],\n",
    "                                'vk_g2':[27.39],\n",
    "                                'vk_g3':[28.33],\n",
    "                                'fb_s1':[24.15],\n",
    "                                'fb_s2':[22.54],\n",
    "                                'fb_s3':[29.48]\n",
    "                                })\n",
    "stay_by_channels"
   ]
  },
  {
   "cell_type": "code",
   "execution_count": 359,
   "id": "0f3cee62-db77-4c2f-8a22-9a657caf1e4c",
   "metadata": {},
   "outputs": [
    {
     "data": {
      "image/png": "[encoded data removed]",
      "text/plain": [
       "<Figure size 720x288 with 1 Axes>"
      ]
     },
     "metadata": {
      "needs_background": "light"
     },
     "output_type": "display_data"
    }
   ],
   "source": [
    "plt.figure(figsize=(10,4))\n",
    "sns.barplot(data=stay_by_channels)\n",
    "plt.title('Распределение среднего времени пристуствия на вебинаре по каналам привлечения')\n",
    "plt.ylabel('Мин.')\n",
    "plt.xlabel('Канал')\n",
    "plt.grid()\n"
   ]
  },
  {
   "cell_type": "code",
   "execution_count": null,
   "id": "7eb5f078-c867-45c9-a22a-adca5c6090e1",
   "metadata": {},
   "outputs": [],
   "source": []
  }
 ],
 "metadata": {
  "kernelspec": {
   "display_name": "Python 3 (ipykernel)",
   "language": "python",
   "name": "python3"
  },
  "language_info": {
   "codemirror_mode": {
    "name": "ipython",
    "version": 3
   },
   "file_extension": ".py",
   "mimetype": "text/x-python",
   "name": "python",
   "nbconvert_exporter": "python",
   "pygments_lexer": "ipython3",
   "version": "3.9.12"
  }
 },
 "nbformat": 4,
 "nbformat_minor": 5
}
