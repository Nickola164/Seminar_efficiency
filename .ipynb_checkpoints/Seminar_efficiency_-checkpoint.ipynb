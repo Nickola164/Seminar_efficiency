{
 "cells": [
  {
   "cell_type": "markdown",
   "id": "47f82823-f7e5-4ded-a9bb-7d75fafff8d6",
   "metadata": {},
   "source": [
    "Вы работаете маркетинговым аналитиком в онлайне-школе SkyAnalytics.\n",
    "\n",
    "1 августа прошел продающий бесплатный вебинар, на котором была продающая часть (с описанием всех плюсов нашей школы) и часть спикера-аналитика (с описанием профессии и практикой).\n",
    "\n",
    "Ваша задача - проанализировать эффективность данного вебинара."
   ]
  },
  {
   "cell_type": "markdown",
   "id": "d5ce0b35-5267-408c-8ec0-79fd16dfa1f9",
   "metadata": {},
   "source": [
    " В таблице logs хранятся заходы и выходы клиентов с вебинара\n",
    " В таблице clients хранится информация о канале привлечения клиента\n",
    " В таблицах email_reg (по электронной почте), vk_reg (через ВКонтакте), fb_reg (через Facebook), tg_reg (через Telegram), inst_reg (через Instagram) хранится информация о регистрации пользователей с различных площадок.\n",
    "logs.csv\n",
    "\n",
    "clients.csv\n",
    "\n",
    "fb_reg.csv\n",
    "\n",
    "inst_reg.csv\n",
    "\n",
    "email_reg.csv\n",
    "\n",
    "vk_reg.csv\n",
    "\n",
    "tg_reg.csv"
   ]
  },
  {
   "cell_type": "markdown",
   "id": "b32bb0f6-8455-459a-bd38-36af5b4a8059",
   "metadata": {},
   "source": [
    "Расписание вебинара:\n",
    "\n",
    "Начало первого продающего блока: 12:00\n",
    "\n",
    "Начало теоретического блока про аналитику: 12:15\n",
    "\n",
    "Начало второй продающей части: 12:50\n",
    "\n",
    "Начало практического блока про аналитику: 13:05\n",
    "\n",
    "Окончание вебинара: 14:00\n",
    "\n",
    "Обратите внимание на два момента:\n",
    "\n",
    "Изучите конверсию в посещение вебинара из регистрации на вебинар с различных площадок. Можете ли вы выявить площадку (блогера / паблик / группу), которая накручивает регистрации?\n",
    "\n",
    "Изучите посещаемость вебинара с точки зрения притока и оттока.\n",
    "\n",
    "Сопоставьте отток с расписанием вебинара и подсветите ту часть вебинара, которую необходимо улучшить. Напишите рекомендации для продающего менеджера и для спикера-аналитика.\n",
    "\n",
    "Иногда требуется дополнительно отправлять пуш- или смс-уведомление зарегистрированным пользователям, чтобы позвать их на вебинар (тем, кто не пришел к началу). Такая коммуникация отправлялась один раз в течение нашего вебинара. Сможете ли вы определить, когда именно она была отправлена?\n",
    "\n",
    "Зависит ли время, в течение которого клиент остается на вебинаре, от его канала привлечения?"
   ]
  },
  {
   "cell_type": "code",
   "execution_count": 2,
   "id": "6e051c3b-82d7-43e7-a2b6-6d5c0bb892d2",
   "metadata": {},
   "outputs": [],
   "source": [
    "# Импортируем соответствубщие библиотеки\n",
    "\n",
    "import pandas as pd\n",
    "import matplotlib.pyplot as plt\n",
    "import seaborn as sns\n",
    "import datetime\n",
    "import numpy as np"
   ]
  },
  {
   "cell_type": "code",
   "execution_count": 3,
   "id": "b6c09319-b52f-4670-8ca6-784ed8ba89e8",
   "metadata": {},
   "outputs": [],
   "source": [
    "# Импортируем соответствубщие файлы, разделив данные по аргументу токи с запятой, а также запарсив колонку с \n",
    "# датой, используя свойство сигнатуры parse_dates=[]\n",
    "\n",
    "df_cl = pd.read_csv('C://Users/Petr/Desktop/Seminar_efficiency/clients.csv', sep=';')\n",
    "df_inst_reg = pd.read_csv('C://Users/Petr/Desktop/Seminar_efficiency/inst_reg.csv', sep=';')\n",
    "df_fb_reg= pd.read_csv('C://Users/Petr/Desktop/Seminar_efficiency/fb_reg.csv', sep=';', parse_dates=[2], dayfirst=True)\n",
    "df_logs = pd.read_csv('C://Users/Petr/Desktop/Seminar_efficiency/logs.csv', sep=';', parse_dates=[2,3], dayfirst=True)\n",
    "df_tg_reg = pd.read_csv('C://Users/Petr/Desktop/Seminar_efficiency/tg_reg.csv', sep=';', parse_dates=[2], dayfirst=True)\n",
    "df_vk_reg = pd.read_csv('C://Users/Petr/Desktop/Seminar_efficiency/vk_reg.csv', sep=';', parse_dates=[2], dayfirst=True)\n",
    "df_vk_email = pd.read_csv('C://Users/Petr/Desktop/Seminar_efficiency/email_reg.csv', sep=';', parse_dates=[2], dayfirst=True)"
   ]
  },
  {
   "cell_type": "code",
   "execution_count": 4,
   "id": "b5ea0a6d-e9d3-4f46-b558-21d04f54ec23",
   "metadata": {},
   "outputs": [],
   "source": [
    "# Объединим два основных файла в один \"df_logs_cl\" \n",
    "\n",
    "df_logs_cl = pd.merge(df_logs,\n",
    "                      df_cl,\n",
    "                      on=['id_user', 'id_user']\n",
    "                      )"
   ]
  },
  {
   "cell_type": "code",
   "execution_count": 6,
   "id": "b318f2eb-f29a-4975-9f49-99ca59b9fe03",
   "metadata": {},
   "outputs": [
    {
     "data": {
      "text/html": [
       "<div>\n",
       "<style scoped>\n",
       "    .dataframe tbody tr th:only-of-type {\n",
       "        vertical-align: middle;\n",
       "    }\n",
       "\n",
       "    .dataframe tbody tr th {\n",
       "        vertical-align: top;\n",
       "    }\n",
       "\n",
       "    .dataframe thead th {\n",
       "        text-align: right;\n",
       "    }\n",
       "</style>\n",
       "<table border=\"1\" class=\"dataframe\">\n",
       "  <thead>\n",
       "    <tr style=\"text-align: right;\">\n",
       "      <th></th>\n",
       "      <th>sourse</th>\n",
       "      <th>users_cnt_visited</th>\n",
       "      <th>users_cnt_regitered</th>\n",
       "    </tr>\n",
       "  </thead>\n",
       "  <tbody>\n",
       "    <tr>\n",
       "      <th>0</th>\n",
       "      <td>instagram</td>\n",
       "      <td>463</td>\n",
       "      <td>5255</td>\n",
       "    </tr>\n",
       "    <tr>\n",
       "      <th>1</th>\n",
       "      <td>telegram</td>\n",
       "      <td>352</td>\n",
       "      <td>3079</td>\n",
       "    </tr>\n",
       "    <tr>\n",
       "      <th>2</th>\n",
       "      <td>vkontakte</td>\n",
       "      <td>140</td>\n",
       "      <td>1731</td>\n",
       "    </tr>\n",
       "    <tr>\n",
       "      <th>3</th>\n",
       "      <td>facebook</td>\n",
       "      <td>294</td>\n",
       "      <td>2663</td>\n",
       "    </tr>\n",
       "    <tr>\n",
       "      <th>4</th>\n",
       "      <td>email</td>\n",
       "      <td>186</td>\n",
       "      <td>3128</td>\n",
       "    </tr>\n",
       "  </tbody>\n",
       "</table>\n",
       "</div>"
      ],
      "text/plain": [
       "      sourse  users_cnt_visited  users_cnt_regitered\n",
       "0  instagram                463                 5255\n",
       "1   telegram                352                 3079\n",
       "2  vkontakte                140                 1731\n",
       "3   facebook                294                 2663\n",
       "4      email                186                 3128"
      ]
     },
     "execution_count": 6,
     "metadata": {},
     "output_type": "execute_result"
    }
   ],
   "source": [
    "# Изучим конверсию в посещение вебинара из регистрации на вебинар с различных площадок, выявим \n",
    "# площадку (блогера / паблик / группу), которая накручивает регистрации и посчитаем рапределение реальных  \n",
    "# посетителей и общего количества регистраций по промо-каналам.\n",
    "\n",
    "# Сначала посчитаем колчиество регистраци для каждого промо-канала и количество посещений для каждого промо-канала.\n",
    "\n",
    "instagram = df_logs_cl.source.map(lambda x: 'instagram' in x).sum()\n",
    "tg = df_logs_cl.source.map(lambda x: 'telegram' in x).sum()\n",
    "vk = df_logs_cl.source.map(lambda x: 'vkontakte' in x).sum()\n",
    "fb = df_logs_cl.source.map(lambda x: 'facebook' in x).sum()\n",
    "email = df_logs_cl.source.map(lambda x: 'email' in x).sum()\n",
    "\n",
    "inst = df_inst_reg['id_reg'].count()\n",
    "tgrm = df_tg_reg['id_reg'].count()\n",
    "vkte = df_vk_reg['id_reg'].count()\n",
    "fbk = df_fb_reg['id_reg'].count()\n",
    "e_mail = df_vk_email['id_reg'].count()\n",
    "\n",
    "sourse_counts = pd.DataFrame({'sourse':['instagram', 'telegram', 'vkontakte', 'facebook', 'email'],\n",
    "                             'users_cnt_visited':[instagram, tg, vk, fb, email],\n",
    "                             'users_cnt_regitered':[inst, tgrm, vkte, fbk, e_mail]})\n",
    "sourse_counts"
   ]
  },
  {
   "cell_type": "code",
   "execution_count": 8,
   "id": "e11f1997-610e-4836-9add-030b28001b6f",
   "metadata": {},
   "outputs": [
    {
     "data": {
      "text/html": [
       "<div>\n",
       "<style scoped>\n",
       "    .dataframe tbody tr th:only-of-type {\n",
       "        vertical-align: middle;\n",
       "    }\n",
       "\n",
       "    .dataframe tbody tr th {\n",
       "        vertical-align: top;\n",
       "    }\n",
       "\n",
       "    .dataframe thead th {\n",
       "        text-align: right;\n",
       "    }\n",
       "</style>\n",
       "<table border=\"1\" class=\"dataframe\">\n",
       "  <thead>\n",
       "    <tr style=\"text-align: right;\">\n",
       "      <th></th>\n",
       "      <th>sourse</th>\n",
       "      <th>users_cnt_visited</th>\n",
       "      <th>users_cnt_regitered</th>\n",
       "      <th>conversion</th>\n",
       "    </tr>\n",
       "  </thead>\n",
       "  <tbody>\n",
       "    <tr>\n",
       "      <th>0</th>\n",
       "      <td>instagram</td>\n",
       "      <td>463</td>\n",
       "      <td>5255</td>\n",
       "      <td>0.088107</td>\n",
       "    </tr>\n",
       "    <tr>\n",
       "      <th>1</th>\n",
       "      <td>telegram</td>\n",
       "      <td>352</td>\n",
       "      <td>3079</td>\n",
       "      <td>0.114323</td>\n",
       "    </tr>\n",
       "    <tr>\n",
       "      <th>2</th>\n",
       "      <td>vkontakte</td>\n",
       "      <td>140</td>\n",
       "      <td>1731</td>\n",
       "      <td>0.080878</td>\n",
       "    </tr>\n",
       "    <tr>\n",
       "      <th>3</th>\n",
       "      <td>facebook</td>\n",
       "      <td>294</td>\n",
       "      <td>2663</td>\n",
       "      <td>0.110402</td>\n",
       "    </tr>\n",
       "    <tr>\n",
       "      <th>4</th>\n",
       "      <td>email</td>\n",
       "      <td>186</td>\n",
       "      <td>3128</td>\n",
       "      <td>0.059463</td>\n",
       "    </tr>\n",
       "  </tbody>\n",
       "</table>\n",
       "</div>"
      ],
      "text/plain": [
       "      sourse  users_cnt_visited  users_cnt_regitered  conversion\n",
       "0  instagram                463                 5255    0.088107\n",
       "1   telegram                352                 3079    0.114323\n",
       "2  vkontakte                140                 1731    0.080878\n",
       "3   facebook                294                 2663    0.110402\n",
       "4      email                186                 3128    0.059463"
      ]
     },
     "execution_count": 8,
     "metadata": {},
     "output_type": "execute_result"
    }
   ],
   "source": [
    "# Добавим в DataFrame колонку конверсии по каждому каналу\n",
    "\n",
    "sourse_counts['conversion'] = sourse_counts.users_cnt_visited/sourse_counts.users_cnt_regitered\n",
    "sourse_counts"
   ]
  },
  {
   "cell_type": "code",
   "execution_count": 10,
   "id": "5eb8a3de-a9f7-49d9-a13a-b038c43ea0e8",
   "metadata": {},
   "outputs": [
    {
     "data": {
      "text/plain": [
       "Text(0.5, 1.0, 'конверсия промо-каналов')"
      ]
     },
     "execution_count": 10,
     "metadata": {},
     "output_type": "execute_result"
    },
    {
     "data": {
      "image/png": "[encoded data removed]",
      "text/plain": [
       "<Figure size 432x432 with 1 Axes>"
      ]
     },
     "metadata": {
      "needs_background": "light"
     },
     "output_type": "display_data"
    }
   ],
   "source": [
    "# Сделаем график для наглядности: как мы видим, telegram & facebook - два самых эффективных канала. имэйл рассылка -\n",
    "# наименее эффективный канал. \n",
    "\n",
    "plt.figure(figsize=(6,6))\n",
    "sns.barplot(x=sourse_counts.sourse,\n",
    "           y=sourse_counts.conversion)\n",
    "plt.title('конверсия промо-каналов')"
   ]
  },
  {
   "cell_type": "code",
   "execution_count": 11,
   "id": "5ac23a6e-cdbb-46a9-8b6a-2cbada218409",
   "metadata": {},
   "outputs": [
    {
     "data": {
      "text/plain": [
       "public_label\n",
       "public1    1440\n",
       "public2     869\n",
       "public3     770\n",
       "public4       0\n",
       "Name: id_reg, dtype: int64"
      ]
     },
     "execution_count": 11,
     "metadata": {},
     "output_type": "execute_result"
    }
   ],
   "source": [
    "# Далее согласно заданию исследуем подканалы: блогерров, группы и пр., сделаем таке же, как выше, распределение, \n",
    "# но с разбивкой по подканалам. Для этого сгруппируем регистрации по каждому из подканалов\n",
    "\n",
    "df_tg_reg.groupby(df_tg_reg.public_label).id_reg.count()"
   ]
  },
  {
   "cell_type": "code",
   "execution_count": 12,
   "id": "d5d9bbcf-2595-4679-b1c2-6fb42565b429",
   "metadata": {},
   "outputs": [
    {
     "data": {
      "text/plain": [
       "group_label\n",
       "group1    605\n",
       "group2    627\n",
       "group3    499\n",
       "Name: id_reg, dtype: int64"
      ]
     },
     "execution_count": 12,
     "metadata": {},
     "output_type": "execute_result"
    }
   ],
   "source": [
    "df_vk_reg.groupby(df_vk_reg['group_label']).id_reg.count()"
   ]
  },
  {
   "cell_type": "code",
   "execution_count": 13,
   "id": "669ee5a3-13e8-436b-a6eb-6359f968b675",
   "metadata": {},
   "outputs": [
    {
     "data": {
      "text/plain": [
       "source_label\n",
       "source1     671\n",
       "source2    1028\n",
       "source3     964\n",
       "Name: id_reg, dtype: int64"
      ]
     },
     "execution_count": 13,
     "metadata": {},
     "output_type": "execute_result"
    }
   ],
   "source": [
    "df_fb_reg.groupby(df_fb_reg['source_label']).id_reg.count()"
   ]
  },
  {
   "cell_type": "code",
   "execution_count": 14,
   "id": "a5bdf92b-b941-4053-838f-02d1acc7c79d",
   "metadata": {},
   "outputs": [
    {
     "data": {
      "text/plain": [
       "blogger_label\n",
       "blogger1    1611\n",
       "blogger2     841\n",
       "blogger3     743\n",
       "blogger4    2060\n",
       "Name: id_reg, dtype: int64"
      ]
     },
     "execution_count": 14,
     "metadata": {},
     "output_type": "execute_result"
    }
   ],
   "source": [
    "df_inst_reg.groupby(df_inst_reg['blogger_label']).id_reg.count()"
   ]
  },
  {
   "cell_type": "code",
   "execution_count": 15,
   "id": "317f288e-414a-450e-968f-992836cd3e0a",
   "metadata": {},
   "outputs": [
    {
     "data": {
      "text/html": [
       "<div>\n",
       "<style scoped>\n",
       "    .dataframe tbody tr th:only-of-type {\n",
       "        vertical-align: middle;\n",
       "    }\n",
       "\n",
       "    .dataframe tbody tr th {\n",
       "        vertical-align: top;\n",
       "    }\n",
       "\n",
       "    .dataframe thead th {\n",
       "        text-align: right;\n",
       "    }\n",
       "</style>\n",
       "<table border=\"1\" class=\"dataframe\">\n",
       "  <thead>\n",
       "    <tr style=\"text-align: right;\">\n",
       "      <th></th>\n",
       "      <th>insta_visit</th>\n",
       "      <th>insta_reg</th>\n",
       "      <th>tg_visit</th>\n",
       "      <th>tg_reg</th>\n",
       "      <th>vk_visit</th>\n",
       "      <th>vk_reg</th>\n",
       "      <th>fb_visit</th>\n",
       "      <th>fb_reg</th>\n",
       "    </tr>\n",
       "  </thead>\n",
       "  <tbody>\n",
       "    <tr>\n",
       "      <th>0</th>\n",
       "      <td>164</td>\n",
       "      <td>1611</td>\n",
       "      <td>177</td>\n",
       "      <td>1440</td>\n",
       "      <td>62</td>\n",
       "      <td>605</td>\n",
       "      <td>72</td>\n",
       "      <td>671</td>\n",
       "    </tr>\n",
       "    <tr>\n",
       "      <th>1</th>\n",
       "      <td>97</td>\n",
       "      <td>841</td>\n",
       "      <td>107</td>\n",
       "      <td>869</td>\n",
       "      <td>55</td>\n",
       "      <td>627</td>\n",
       "      <td>127</td>\n",
       "      <td>1028</td>\n",
       "    </tr>\n",
       "    <tr>\n",
       "      <th>2</th>\n",
       "      <td>108</td>\n",
       "      <td>743</td>\n",
       "      <td>68</td>\n",
       "      <td>770</td>\n",
       "      <td>23</td>\n",
       "      <td>499</td>\n",
       "      <td>95</td>\n",
       "      <td>964</td>\n",
       "    </tr>\n",
       "    <tr>\n",
       "      <th>3</th>\n",
       "      <td>94</td>\n",
       "      <td>2060</td>\n",
       "      <td>0</td>\n",
       "      <td>0</td>\n",
       "      <td>0</td>\n",
       "      <td>0</td>\n",
       "      <td>0</td>\n",
       "      <td>0</td>\n",
       "    </tr>\n",
       "  </tbody>\n",
       "</table>\n",
       "</div>"
      ],
      "text/plain": [
       "   insta_visit  insta_reg  tg_visit  tg_reg  vk_visit  vk_reg  fb_visit  \\\n",
       "0          164       1611       177    1440        62     605        72   \n",
       "1           97        841       107     869        55     627       127   \n",
       "2          108        743        68     770        23     499        95   \n",
       "3           94       2060         0       0         0       0         0   \n",
       "\n",
       "   fb_reg  \n",
       "0     671  \n",
       "1    1028  \n",
       "2     964  \n",
       "3       0  "
      ]
     },
     "execution_count": 15,
     "metadata": {},
     "output_type": "execute_result"
    }
   ],
   "source": [
    "# Далее, получив группировки регистраций пользователей по подканадам, сопоставим их с группировками по подканалам\n",
    "# посещений\n",
    "\n",
    "insta_b1 = df_logs_cl.source.map(lambda x: 'blogger1' in x).sum()\n",
    "insta_b2 = df_logs_cl.source.map(lambda x: 'blogger2' in x).sum()\n",
    "insta_b3 = df_logs_cl.source.map(lambda x: 'blogger3' in x).sum()\n",
    "insta_b4 = df_logs_cl.source.map(lambda x: 'blogger4' in x).sum()\n",
    "\n",
    "b1 =   1611\n",
    "b2 =   841\n",
    "b3 =   743\n",
    "b4 =   2060\n",
    "\n",
    "tg_p1 = df_logs_cl.source.map(lambda x: 'public1' in x).sum()\n",
    "tg_p2 = df_logs_cl.source.map(lambda x: 'public2' in x).sum()\n",
    "tg_p3 = df_logs_cl.source.map(lambda x: 'public3' in x).sum()\n",
    "tg_p4 = df_logs_cl.source.map(lambda x: 'public4' in x).sum()\n",
    "\n",
    "p1 =  1440\n",
    "p2 =  869\n",
    "p3 =  770\n",
    "p4 =  0\n",
    "\n",
    "vk_g1 = df_logs_cl.source.map(lambda x: 'group1' in x).sum()\n",
    "vk_g2 = df_logs_cl.source.map(lambda x: 'group2' in x).sum()\n",
    "vk_g3 = df_logs_cl.source.map(lambda x: 'group3' in x).sum()\n",
    "vk_g4 = df_logs_cl.source.map(lambda x: 'group4' in x).sum()\n",
    "\n",
    "\n",
    "g1 =   605\n",
    "g2 =   627\n",
    "g3 =   499\n",
    "g4 =   0\n",
    "\n",
    "fb_s1 = df_logs_cl.source.map(lambda x: 'source1' in x).sum()\n",
    "fb_s2 = df_logs_cl.source.map(lambda x: 'source2' in x).sum()\n",
    "fb_s3 = df_logs_cl.source.map(lambda x: 'source3' in x).sum()\n",
    "fb_s4 = df_logs_cl.source.map(lambda x: 'source4' in x).sum()\n",
    "\n",
    "s1 =   671\n",
    "s2 =   1028\n",
    "s3 =   964\n",
    "s4 =   0\n",
    "\n",
    "sourse_countsc_d = pd.DataFrame({'insta_visit':[insta_b1, insta_b2, insta_b3, insta_b4],\n",
    "                             'insta_reg':[b1, b2, b3, b4],\n",
    "                             'tg_visit':[tg_p1, tg_p2, tg_p3, tg_p4],\n",
    "                             'tg_reg':[p1,p2,p3,p4],\n",
    "                             'vk_visit':[vk_g1,vk_g2,vk_g3,vk_g4],\n",
    "                             'vk_reg':[g1,g2,g3,g4],\n",
    "                             'fb_visit':[fb_s1,fb_s2,fb_s3,fb_s4],\n",
    "                             'fb_reg':[s1,s2,s3,s4]})\n",
    "\n",
    "sourse_countsc_d"
   ]
  },
  {
   "cell_type": "code",
   "execution_count": 16,
   "id": "d2c6a572-1f58-43d9-b785-843fd4099f22",
   "metadata": {},
   "outputs": [
    {
     "data": {
      "text/html": [
       "<div>\n",
       "<style scoped>\n",
       "    .dataframe tbody tr th:only-of-type {\n",
       "        vertical-align: middle;\n",
       "    }\n",
       "\n",
       "    .dataframe tbody tr th {\n",
       "        vertical-align: top;\n",
       "    }\n",
       "\n",
       "    .dataframe thead th {\n",
       "        text-align: right;\n",
       "    }\n",
       "</style>\n",
       "<table border=\"1\" class=\"dataframe\">\n",
       "  <thead>\n",
       "    <tr style=\"text-align: right;\">\n",
       "      <th></th>\n",
       "      <th>insta_conv</th>\n",
       "      <th>tg_conv</th>\n",
       "      <th>vk_conv</th>\n",
       "      <th>fb_conv</th>\n",
       "    </tr>\n",
       "  </thead>\n",
       "  <tbody>\n",
       "    <tr>\n",
       "      <th>0</th>\n",
       "      <td>0.101800</td>\n",
       "      <td>0.122917</td>\n",
       "      <td>0.102479</td>\n",
       "      <td>0.107303</td>\n",
       "    </tr>\n",
       "    <tr>\n",
       "      <th>1</th>\n",
       "      <td>0.115339</td>\n",
       "      <td>0.123130</td>\n",
       "      <td>0.087719</td>\n",
       "      <td>0.123541</td>\n",
       "    </tr>\n",
       "    <tr>\n",
       "      <th>2</th>\n",
       "      <td>0.145357</td>\n",
       "      <td>0.088312</td>\n",
       "      <td>0.046092</td>\n",
       "      <td>0.098548</td>\n",
       "    </tr>\n",
       "    <tr>\n",
       "      <th>3</th>\n",
       "      <td>0.045631</td>\n",
       "      <td>NaN</td>\n",
       "      <td>NaN</td>\n",
       "      <td>NaN</td>\n",
       "    </tr>\n",
       "  </tbody>\n",
       "</table>\n",
       "</div>"
      ],
      "text/plain": [
       "   insta_conv   tg_conv   vk_conv   fb_conv\n",
       "0    0.101800  0.122917  0.102479  0.107303\n",
       "1    0.115339  0.123130  0.087719  0.123541\n",
       "2    0.145357  0.088312  0.046092  0.098548\n",
       "3    0.045631       NaN       NaN       NaN"
      ]
     },
     "execution_count": 16,
     "metadata": {},
     "output_type": "execute_result"
    }
   ],
   "source": [
    "# Теперь посчитаем конверсии регистраций в посещения по подканалам и визуализируем с помощью линейного графика\n",
    "\n",
    "sourse_countsc_d['insta_conv'] = sourse_countsc_d.insta_visit/sourse_countsc_d.insta_reg\n",
    "sourse_countsc_d['tg_conv'] = sourse_countsc_d.tg_visit/sourse_countsc_d.tg_reg\n",
    "sourse_countsc_d['vk_conv'] = sourse_countsc_d.vk_visit/sourse_countsc_d.vk_reg\n",
    "sourse_countsc_d['fb_conv'] = sourse_countsc_d.fb_visit/sourse_countsc_d.fb_reg\n",
    "sourse_countsc_conv = sourse_countsc_d[['insta_conv','tg_conv','vk_conv','fb_conv']]\n",
    "sourse_countsc_conv"
   ]
  },
  {
   "cell_type": "code",
   "execution_count": 71,
   "id": "995fe0ce-de54-4713-ac94-896630bb34a0",
   "metadata": {},
   "outputs": [
    {
     "data": {
      "text/plain": [
       "<matplotlib.lines.Line2D at 0x28d33481430>"
      ]
     },
     "execution_count": 71,
     "metadata": {},
     "output_type": "execute_result"
    },
    {
     "data": {
      "image/png": "[encoded data removed]",
      "text/plain": [
       "<Figure size 720x360 with 1 Axes>"
      ]
     },
     "metadata": {
      "needs_background": "light"
     },
     "output_type": "display_data"
    }
   ],
   "source": [
    "# Мы видим, что третья группа VK и 4-й блогер в инстаграме занимаются накрутками - конверсия по их каналам минимум \n",
    "# вдвое меньше, чем по остальным каналам\n",
    "\n",
    "plt.figure(figsize=(10,5))\n",
    "sns.lineplot(data=sourse_countsc_conv)\n",
    "plt.axvline(x=0, color='grey', linestyle='--')\n",
    "plt.axvline(x=1, color='grey', linestyle='--')\n",
    "plt.axvline(x=2, color='grey', linestyle='--')\n",
    "plt.axvline(x=3, color='grey', linestyle='--')"
   ]
  },
  {
   "cell_type": "code",
   "execution_count": 18,
   "id": "279519ab-a2d5-4e28-b281-5d3888f7803a",
   "metadata": {},
   "outputs": [],
   "source": [
    "# Изучим посещаемость вебинара с точки зрения притока и оттока. Сопоставим отток с расписанием вебинара и \n",
    "# определим ту часть вебинара, которую необходимо улучшить. Для этого сгруппируем кол-во входов и выходов \n",
    "# по минутам\n",
    "\n",
    "cl_in = df_logs_cl.groupby(df_logs_cl['t_came']).id_webinar.count().reset_index()\n",
    "cl_out = df_logs_cl.groupby(df_logs_cl['t_left']).id_webinar.count().reset_index()"
   ]
  },
  {
   "cell_type": "code",
   "execution_count": 35,
   "id": "a355dfc4-3487-4f4b-917a-5db16d5b278c",
   "metadata": {},
   "outputs": [],
   "source": [
    "# Объединим данные о входах и выхода в течение вебинара, добавив столбец из одной таблицы в другую, и дадим им\n",
    "# соответствующие названия. \n",
    "\n",
    "cl_in['t_left'] = cl_out['id_webinar']"
   ]
  },
  {
   "cell_type": "code",
   "execution_count": 36,
   "id": "14afe100-0b81-4688-9d24-95f2dc789176",
   "metadata": {},
   "outputs": [
    {
     "data": {
      "text/html": [
       "<div>\n",
       "<style scoped>\n",
       "    .dataframe tbody tr th:only-of-type {\n",
       "        vertical-align: middle;\n",
       "    }\n",
       "\n",
       "    .dataframe tbody tr th {\n",
       "        vertical-align: top;\n",
       "    }\n",
       "\n",
       "    .dataframe thead th {\n",
       "        text-align: right;\n",
       "    }\n",
       "</style>\n",
       "<table border=\"1\" class=\"dataframe\">\n",
       "  <thead>\n",
       "    <tr style=\"text-align: right;\">\n",
       "      <th></th>\n",
       "      <th>minute</th>\n",
       "      <th>id_in</th>\n",
       "      <th>id_out</th>\n",
       "    </tr>\n",
       "  </thead>\n",
       "  <tbody>\n",
       "    <tr>\n",
       "      <th>0</th>\n",
       "      <td>2022-08-01 12:00:00</td>\n",
       "      <td>83</td>\n",
       "      <td>16</td>\n",
       "    </tr>\n",
       "    <tr>\n",
       "      <th>1</th>\n",
       "      <td>2022-08-01 12:01:00</td>\n",
       "      <td>68</td>\n",
       "      <td>20</td>\n",
       "    </tr>\n",
       "    <tr>\n",
       "      <th>2</th>\n",
       "      <td>2022-08-01 12:02:00</td>\n",
       "      <td>59</td>\n",
       "      <td>11</td>\n",
       "    </tr>\n",
       "    <tr>\n",
       "      <th>3</th>\n",
       "      <td>2022-08-01 12:03:00</td>\n",
       "      <td>53</td>\n",
       "      <td>16</td>\n",
       "    </tr>\n",
       "    <tr>\n",
       "      <th>4</th>\n",
       "      <td>2022-08-01 12:04:00</td>\n",
       "      <td>46</td>\n",
       "      <td>10</td>\n",
       "    </tr>\n",
       "    <tr>\n",
       "      <th>...</th>\n",
       "      <td>...</td>\n",
       "      <td>...</td>\n",
       "      <td>...</td>\n",
       "    </tr>\n",
       "    <tr>\n",
       "      <th>100</th>\n",
       "      <td>2022-08-01 13:50:00</td>\n",
       "      <td>7</td>\n",
       "      <td>8</td>\n",
       "    </tr>\n",
       "    <tr>\n",
       "      <th>101</th>\n",
       "      <td>2022-08-01 13:51:00</td>\n",
       "      <td>7</td>\n",
       "      <td>5</td>\n",
       "    </tr>\n",
       "    <tr>\n",
       "      <th>102</th>\n",
       "      <td>2022-08-01 13:52:00</td>\n",
       "      <td>7</td>\n",
       "      <td>4</td>\n",
       "    </tr>\n",
       "    <tr>\n",
       "      <th>103</th>\n",
       "      <td>2022-08-01 13:53:00</td>\n",
       "      <td>7</td>\n",
       "      <td>6</td>\n",
       "    </tr>\n",
       "    <tr>\n",
       "      <th>104</th>\n",
       "      <td>2022-08-01 13:54:00</td>\n",
       "      <td>6</td>\n",
       "      <td>6</td>\n",
       "    </tr>\n",
       "  </tbody>\n",
       "</table>\n",
       "<p>105 rows × 3 columns</p>\n",
       "</div>"
      ],
      "text/plain": [
       "                 minute  id_in  id_out\n",
       "0   2022-08-01 12:00:00     83      16\n",
       "1   2022-08-01 12:01:00     68      20\n",
       "2   2022-08-01 12:02:00     59      11\n",
       "3   2022-08-01 12:03:00     53      16\n",
       "4   2022-08-01 12:04:00     46      10\n",
       "..                  ...    ...     ...\n",
       "100 2022-08-01 13:50:00      7       8\n",
       "101 2022-08-01 13:51:00      7       5\n",
       "102 2022-08-01 13:52:00      7       4\n",
       "103 2022-08-01 13:53:00      7       6\n",
       "104 2022-08-01 13:54:00      6       6\n",
       "\n",
       "[105 rows x 3 columns]"
      ]
     },
     "execution_count": 36,
     "metadata": {},
     "output_type": "execute_result"
    }
   ],
   "source": [
    "cl_in.rename(columns={'id_webinar': 'id_in',\n",
    "                     't_left':'id_out',\n",
    "                     't_came':'minute'})"
   ]
  },
  {
   "cell_type": "code",
   "execution_count": 37,
   "id": "b0a6234e-47a9-4518-aadb-c3a7e834edad",
   "metadata": {},
   "outputs": [
    {
     "data": {
      "image/png": "[encoded data removed]",
      "text/plain": [
       "<Figure size 1296x576 with 1 Axes>"
      ]
     },
     "metadata": {
      "needs_background": "light"
     },
     "output_type": "display_data"
    }
   ],
   "source": [
    "# Далее мы построим график, поминутных входов и выходов пользователей на/с вебинара. Вертикальными пунктирными\n",
    "# линиями красного цвета обозначим ключевые точки расписания (переходы между блоками). Мы видим  всплеск выходов\n",
    "# в 20-ю и 23 минуты: поскольку в расписании в эти минуты не отмечено каких-либо событий, предположим, что это \n",
    "# работает какой-то неприятный информационный тригер, побуждающий людей покинуть вебинар. Менеджерам стоит\n",
    "# пересмотреть информацию, дающуюся в эти минуты и переработать материалы. Далее мы видим всплеск входов примерно\n",
    "# в 38-ю минуту, что, по-видимому, связано с рассылкой пуш-уведомления всем зарегистрированным, если такое \n",
    "# уведомление не высылается до начала семинара, это стоит сделать, чтобы больше людей присутствовало на первом \n",
    "# продающем блоке. Далее мы видим второй всплеск оттока слушателей после начала второй (последней) практической \n",
    "# части. Это можно объяснить усталостью аудитории - к тому моменту вебинар идет уже больше часа. Так же могут\n",
    "# иметь место и другие факторы - неинтересный кейс или негативный тригер (который имел место на 20 и 23 минуте),\n",
    "# и в первом, и во втором слуаче необходимо пересмотреть информационне материалы, чтобы минимизировать отток \n",
    "# слушателей в начале последней части.  \n",
    "\n",
    "plt.figure(figsize=(18,8))\n",
    "sns.lineplot(data=cl_in)\n",
    "plt.axvline(x=15, color='r', linestyle='--')\n",
    "plt.axvline(x=50, color='r', linestyle='--')\n",
    "plt.axvline(x=65, color='r', linestyle='--')\n",
    "plt.grid() "
   ]
  },
  {
   "cell_type": "code",
   "execution_count": 43,
   "id": "8e88bbfd-ec75-4a71-8abd-f578a3ddf955",
   "metadata": {},
   "outputs": [
    {
     "data": {
      "text/html": [
       "<div>\n",
       "<style scoped>\n",
       "    .dataframe tbody tr th:only-of-type {\n",
       "        vertical-align: middle;\n",
       "    }\n",
       "\n",
       "    .dataframe tbody tr th {\n",
       "        vertical-align: top;\n",
       "    }\n",
       "\n",
       "    .dataframe thead th {\n",
       "        text-align: right;\n",
       "    }\n",
       "</style>\n",
       "<table border=\"1\" class=\"dataframe\">\n",
       "  <thead>\n",
       "    <tr style=\"text-align: right;\">\n",
       "      <th></th>\n",
       "      <th>id_webinar</th>\n",
       "      <th>id_user</th>\n",
       "      <th>t_came</th>\n",
       "      <th>t_left</th>\n",
       "      <th>source</th>\n",
       "      <th>t_stay</th>\n",
       "    </tr>\n",
       "  </thead>\n",
       "  <tbody>\n",
       "    <tr>\n",
       "      <th>0</th>\n",
       "      <td>1341312</td>\n",
       "      <td>34217410</td>\n",
       "      <td>2022-08-01 12:25:00</td>\n",
       "      <td>2022-08-01 13:00:00</td>\n",
       "      <td>?utm_source=telegram%adv=public2L%POR%9677%A</td>\n",
       "      <td>0 days 00:35:00</td>\n",
       "    </tr>\n",
       "    <tr>\n",
       "      <th>1</th>\n",
       "      <td>1341312</td>\n",
       "      <td>34322153</td>\n",
       "      <td>2022-08-01 12:03:00</td>\n",
       "      <td>2022-08-01 12:23:00</td>\n",
       "      <td>?utm_source=telegram%adv=public3I%QDX%8153%K</td>\n",
       "      <td>0 days 00:20:00</td>\n",
       "    </tr>\n",
       "    <tr>\n",
       "      <th>2</th>\n",
       "      <td>1341312</td>\n",
       "      <td>34386258</td>\n",
       "      <td>2022-08-01 12:43:00</td>\n",
       "      <td>2022-08-01 13:14:00</td>\n",
       "      <td>?utm_source=instagram%placement=blogger1H%SYP%...</td>\n",
       "      <td>0 days 00:31:00</td>\n",
       "    </tr>\n",
       "  </tbody>\n",
       "</table>\n",
       "</div>"
      ],
      "text/plain": [
       "   id_webinar   id_user              t_came              t_left  \\\n",
       "0     1341312  34217410 2022-08-01 12:25:00 2022-08-01 13:00:00   \n",
       "1     1341312  34322153 2022-08-01 12:03:00 2022-08-01 12:23:00   \n",
       "2     1341312  34386258 2022-08-01 12:43:00 2022-08-01 13:14:00   \n",
       "\n",
       "                                              source          t_stay  \n",
       "0       ?utm_source=telegram%adv=public2L%POR%9677%A 0 days 00:35:00  \n",
       "1       ?utm_source=telegram%adv=public3I%QDX%8153%K 0 days 00:20:00  \n",
       "2  ?utm_source=instagram%placement=blogger1H%SYP%... 0 days 00:31:00  "
      ]
     },
     "execution_count": 43,
     "metadata": {},
     "output_type": "execute_result"
    }
   ],
   "source": [
    "# выясним, зависит ли время, в течение которого клиент остается на вебинаре, от его канала привлечения? Для этого\n",
    "# в изначлальную таблицу добавим столбец с временем присутствия каждого клиента на вединаре\n",
    "\n",
    "df_logs_cl['t_stay'] = df_logs_cl['t_left'] - df_logs_cl['t_came']\n",
    "df_logs_cl.head(3)"
   ]
  },
  {
   "cell_type": "code",
   "execution_count": 44,
   "id": "a5d855c2-c23f-4f30-926e-86e55720dcc6",
   "metadata": {},
   "outputs": [],
   "source": [
    "# Для каждого подканала запишем соответствующую переменную, которая возвратит нам в булевых значениях соотв. строки \n",
    "\n",
    "insta_b1 = df_logs_cl.source.map(lambda x: 'blogger1' in x)\n",
    "insta_b2 = df_logs_cl.source.map(lambda x: 'blogger2' in x)\n",
    "insta_b3 = df_logs_cl.source.map(lambda x: 'blogger3' in x)\n",
    "insta_b4 = df_logs_cl.source.map(lambda x: 'blogger4' in x)\n",
    "\n",
    "tg_p1 = df_logs_cl.source.map(lambda x: 'public1' in x)\n",
    "tg_p2 = df_logs_cl.source.map(lambda x: 'public2' in x)\n",
    "tg_p3 = df_logs_cl.source.map(lambda x: 'public3' in x)\n",
    "tg_p4 = df_logs_cl.source.map(lambda x: 'public4' in x)\n",
    "\n",
    "vk_g1 = df_logs_cl.source.map(lambda x: 'group1' in x)\n",
    "vk_g2 = df_logs_cl.source.map(lambda x: 'group2' in x)\n",
    "vk_g3 = df_logs_cl.source.map(lambda x: 'group3' in x)\n",
    "\n",
    "fb_s1 = df_logs_cl.source.map(lambda x: 'source1' in x)\n",
    "fb_s2 = df_logs_cl.source.map(lambda x: 'source2' in x)\n",
    "fb_s3 = df_logs_cl.source.map(lambda x: 'source3' in x)"
   ]
  },
  {
   "cell_type": "code",
   "execution_count": 45,
   "id": "619cca17-c106-4f16-8868-52a66f7d4522",
   "metadata": {},
   "outputs": [],
   "source": [
    "# Добавим столбцы из соответсвующих подканалам переменных, пробегающих по всем строкам клиентов  \n",
    "\n",
    "df_logs_cl['insta_b1']=insta_b1\n",
    "df_logs_cl['insta_b2']=insta_b2\n",
    "df_logs_cl['insta_b3']=insta_b3\n",
    "df_logs_cl['insta_b4']=insta_b4\n",
    "\n",
    "df_logs_cl['tg_p1']=tg_p1\n",
    "df_logs_cl['tg_p2']=tg_p2\n",
    "df_logs_cl['tg_p3']=tg_p3\n",
    "df_logs_cl['tg_p4']=tg_p4\n",
    "\n",
    "\n",
    "df_logs_cl['vk_g1']=vk_g1\n",
    "df_logs_cl['vk_g2']=vk_g2\n",
    "df_logs_cl['vk_g3']=vk_g3\n",
    "\n",
    "df_logs_cl['fb_s1']=fb_s1\n",
    "df_logs_cl['fb_s2']=fb_s2\n",
    "df_logs_cl['fb_s3']=fb_s3"
   ]
  },
  {
   "cell_type": "code",
   "execution_count": 62,
   "id": "2c17848b-b3d6-4282-8bac-e3f73db720f8",
   "metadata": {},
   "outputs": [
    {
     "data": {
      "text/html": [
       "<div>\n",
       "<style scoped>\n",
       "    .dataframe tbody tr th:only-of-type {\n",
       "        vertical-align: middle;\n",
       "    }\n",
       "\n",
       "    .dataframe tbody tr th {\n",
       "        vertical-align: top;\n",
       "    }\n",
       "\n",
       "    .dataframe thead th {\n",
       "        text-align: right;\n",
       "    }\n",
       "</style>\n",
       "<table border=\"1\" class=\"dataframe\">\n",
       "  <thead>\n",
       "    <tr style=\"text-align: right;\">\n",
       "      <th></th>\n",
       "      <th>id_user</th>\n",
       "      <th>t_stay</th>\n",
       "      <th>insta_b1</th>\n",
       "      <th>insta_b2</th>\n",
       "      <th>insta_b3</th>\n",
       "      <th>insta_b4</th>\n",
       "      <th>tg_p1</th>\n",
       "      <th>tg_p2</th>\n",
       "      <th>tg_p3</th>\n",
       "      <th>tg_p4</th>\n",
       "      <th>vk_g1</th>\n",
       "      <th>vk_g2</th>\n",
       "      <th>vk_g3</th>\n",
       "      <th>fb_s1</th>\n",
       "      <th>fb_s2</th>\n",
       "      <th>fb_s3</th>\n",
       "    </tr>\n",
       "  </thead>\n",
       "  <tbody>\n",
       "    <tr>\n",
       "      <th>0</th>\n",
       "      <td>34217410</td>\n",
       "      <td>0 days 00:35:00</td>\n",
       "      <td>False</td>\n",
       "      <td>False</td>\n",
       "      <td>False</td>\n",
       "      <td>False</td>\n",
       "      <td>False</td>\n",
       "      <td>True</td>\n",
       "      <td>False</td>\n",
       "      <td>False</td>\n",
       "      <td>False</td>\n",
       "      <td>False</td>\n",
       "      <td>False</td>\n",
       "      <td>False</td>\n",
       "      <td>False</td>\n",
       "      <td>False</td>\n",
       "    </tr>\n",
       "    <tr>\n",
       "      <th>1</th>\n",
       "      <td>34322153</td>\n",
       "      <td>0 days 00:20:00</td>\n",
       "      <td>False</td>\n",
       "      <td>False</td>\n",
       "      <td>False</td>\n",
       "      <td>False</td>\n",
       "      <td>False</td>\n",
       "      <td>False</td>\n",
       "      <td>True</td>\n",
       "      <td>False</td>\n",
       "      <td>False</td>\n",
       "      <td>False</td>\n",
       "      <td>False</td>\n",
       "      <td>False</td>\n",
       "      <td>False</td>\n",
       "      <td>False</td>\n",
       "    </tr>\n",
       "    <tr>\n",
       "      <th>2</th>\n",
       "      <td>34386258</td>\n",
       "      <td>0 days 00:31:00</td>\n",
       "      <td>True</td>\n",
       "      <td>False</td>\n",
       "      <td>False</td>\n",
       "      <td>False</td>\n",
       "      <td>False</td>\n",
       "      <td>False</td>\n",
       "      <td>False</td>\n",
       "      <td>False</td>\n",
       "      <td>False</td>\n",
       "      <td>False</td>\n",
       "      <td>False</td>\n",
       "      <td>False</td>\n",
       "      <td>False</td>\n",
       "      <td>False</td>\n",
       "    </tr>\n",
       "  </tbody>\n",
       "</table>\n",
       "</div>"
      ],
      "text/plain": [
       "    id_user          t_stay  insta_b1  insta_b2  insta_b3  insta_b4  tg_p1  \\\n",
       "0  34217410 0 days 00:35:00     False     False     False     False  False   \n",
       "1  34322153 0 days 00:20:00     False     False     False     False  False   \n",
       "2  34386258 0 days 00:31:00      True     False     False     False  False   \n",
       "\n",
       "   tg_p2  tg_p3  tg_p4  vk_g1  vk_g2  vk_g3  fb_s1  fb_s2  fb_s3  \n",
       "0   True  False  False  False  False  False  False  False  False  \n",
       "1  False   True  False  False  False  False  False  False  False  \n",
       "2  False  False  False  False  False  False  False  False  False  "
      ]
     },
     "execution_count": 62,
     "metadata": {},
     "output_type": "execute_result"
    }
   ],
   "source": [
    "# Убираем ненужные строки, и нам остается только подсчитать количество по каждому подканалу, что мы сделаем далее\n",
    "# с помощью группировки. \n",
    "\n",
    "df_logs_cl_ch = df_logs_cl[['id_user','t_stay','insta_b1','insta_b2','insta_b3','insta_b4','tg_p1','tg_p2','tg_p3','tg_p4','vk_g1','vk_g2','vk_g3','fb_s1','fb_s2','fb_s3']]\n",
    "df_logs_cl_ch.head(3)"
   ]
  },
  {
   "cell_type": "code",
   "execution_count": 48,
   "id": "638d6e04-af28-4c91-97d0-3cb7f47aebf0",
   "metadata": {},
   "outputs": [
    {
     "data": {
      "text/plain": [
       "insta_b1\n",
       "False   0 days 00:26:38.804091266\n",
       "True    0 days 00:25:33.292682926\n",
       "Name: t_stay, dtype: timedelta64[ns]"
      ]
     },
     "execution_count": 48,
     "metadata": {},
     "output_type": "execute_result"
    }
   ],
   "source": [
    "df_logs_cl_ch.groupby('insta_b1').t_stay.mean()"
   ]
  },
  {
   "cell_type": "code",
   "execution_count": 49,
   "id": "88269f83-714b-4e4d-9d4f-bc5d5a038da9",
   "metadata": {},
   "outputs": [
    {
     "data": {
      "text/plain": [
       "insta_b2\n",
       "False   0 days 00:26:35.650224215\n",
       "True    0 days 00:25:31.546391752\n",
       "Name: t_stay, dtype: timedelta64[ns]"
      ]
     },
     "execution_count": 49,
     "metadata": {},
     "output_type": "execute_result"
    }
   ],
   "source": [
    "df_logs_cl_ch.groupby('insta_b2').t_stay.mean()"
   ]
  },
  {
   "cell_type": "code",
   "execution_count": 50,
   "id": "b71219d8-8ed7-4621-92cb-5cf059ef5e22",
   "metadata": {},
   "outputs": [
    {
     "data": {
      "text/plain": [
       "insta_b3\n",
       "False   0 days 00:26:24.687264506\n",
       "True    0 days 00:27:52.777777777\n",
       "Name: t_stay, dtype: timedelta64[ns]"
      ]
     },
     "execution_count": 50,
     "metadata": {},
     "output_type": "execute_result"
    }
   ],
   "source": [
    "df_logs_cl_ch.groupby('insta_b3').t_stay.mean()"
   ]
  },
  {
   "cell_type": "code",
   "execution_count": 51,
   "id": "ee24307e-ee49-45fb-915a-aff8ac93ce8e",
   "metadata": {},
   "outputs": [
    {
     "data": {
      "text/plain": [
       "insta_b4\n",
       "False   0 days 00:26:16.957494407\n",
       "True    0 days 00:29:56.170212765\n",
       "Name: t_stay, dtype: timedelta64[ns]"
      ]
     },
     "execution_count": 51,
     "metadata": {},
     "output_type": "execute_result"
    }
   ],
   "source": [
    "df_logs_cl_ch.groupby('insta_b4').t_stay.mean()"
   ]
  },
  {
   "cell_type": "code",
   "execution_count": 52,
   "id": "2a4b6f28-6e1c-415e-a5c6-69b460eacc70",
   "metadata": {},
   "outputs": [
    {
     "data": {
      "text/plain": [
       "tg_p1\n",
       "False   0 days 00:26:29.761526232\n",
       "True    0 days 00:26:42.372881355\n",
       "Name: t_stay, dtype: timedelta64[ns]"
      ]
     },
     "execution_count": 52,
     "metadata": {},
     "output_type": "execute_result"
    }
   ],
   "source": [
    "df_logs_cl_ch.groupby('tg_p1').t_stay.mean()"
   ]
  },
  {
   "cell_type": "code",
   "execution_count": 53,
   "id": "f0ab7b7e-552b-4e2b-a55b-9ffd8298c877",
   "metadata": {},
   "outputs": [
    {
     "data": {
      "text/plain": [
       "tg_p2\n",
       "False   0 days 00:26:25.978915662\n",
       "True    0 days 00:27:37.570093457\n",
       "Name: t_stay, dtype: timedelta64[ns]"
      ]
     },
     "execution_count": 53,
     "metadata": {},
     "output_type": "execute_result"
    }
   ],
   "source": [
    "df_logs_cl_ch.groupby('tg_p2').t_stay.mean()"
   ]
  },
  {
   "cell_type": "code",
   "execution_count": 54,
   "id": "e969e424-7977-4c32-a3d4-57a9efe23c36",
   "metadata": {},
   "outputs": [
    {
     "data": {
      "text/plain": [
       "tg_p3\n",
       "False   0 days 00:26:42.970007315\n",
       "True    0 days 00:22:37.058823529\n",
       "Name: t_stay, dtype: timedelta64[ns]"
      ]
     },
     "execution_count": 54,
     "metadata": {},
     "output_type": "execute_result"
    }
   ],
   "source": [
    "df_logs_cl_ch.groupby('tg_p3').t_stay.mean()"
   ]
  },
  {
   "cell_type": "code",
   "execution_count": 55,
   "id": "65697cfd-8e5c-4327-8a3b-9f235137cc84",
   "metadata": {},
   "outputs": [
    {
     "data": {
      "text/plain": [
       "vk_g1\n",
       "False   0 days 00:26:23.073561544\n",
       "True    0 days 00:29:33.870967741\n",
       "Name: t_stay, dtype: timedelta64[ns]"
      ]
     },
     "execution_count": 55,
     "metadata": {},
     "output_type": "execute_result"
    }
   ],
   "source": [
    "df_logs_cl_ch.groupby('vk_g1').t_stay.mean()"
   ]
  },
  {
   "cell_type": "code",
   "execution_count": 56,
   "id": "890eb84e-2440-4f0b-93ae-6ffe74b3ec24",
   "metadata": {},
   "outputs": [
    {
     "data": {
      "text/plain": [
       "vk_g2\n",
       "False   0 days 00:26:28.608695652\n",
       "True    0 days 00:27:39.272727272\n",
       "Name: t_stay, dtype: timedelta64[ns]"
      ]
     },
     "execution_count": 56,
     "metadata": {},
     "output_type": "execute_result"
    }
   ],
   "source": [
    "df_logs_cl_ch.groupby('vk_g2').t_stay.mean()"
   ]
  },
  {
   "cell_type": "code",
   "execution_count": 57,
   "id": "1e6f90d6-971b-4176-8615-11c3cabc4ab6",
   "metadata": {},
   "outputs": [
    {
     "data": {
      "text/plain": [
       "vk_g3\n",
       "False   0 days 00:26:29.320113314\n",
       "True    0 days 00:28:33.913043478\n",
       "Name: t_stay, dtype: timedelta64[ns]"
      ]
     },
     "execution_count": 57,
     "metadata": {},
     "output_type": "execute_result"
    }
   ],
   "source": [
    "df_logs_cl_ch.groupby('vk_g3').t_stay.mean()"
   ]
  },
  {
   "cell_type": "code",
   "execution_count": 58,
   "id": "e99693d5-3c77-4490-b806-9d938d4fe805",
   "metadata": {},
   "outputs": [
    {
     "data": {
      "text/plain": [
       "fb_s1\n",
       "False   0 days 00:26:38.473954512\n",
       "True    0 days 00:24:15.833333333\n",
       "Name: t_stay, dtype: timedelta64[ns]"
      ]
     },
     "execution_count": 58,
     "metadata": {},
     "output_type": "execute_result"
    }
   ],
   "source": [
    "df_logs_cl_ch.groupby('fb_s1').t_stay.mean()"
   ]
  },
  {
   "cell_type": "code",
   "execution_count": 59,
   "id": "d958cae7-fbeb-45ec-ae36-fe2137e293cc",
   "metadata": {},
   "outputs": [
    {
     "data": {
      "text/plain": [
       "fb_s2\n",
       "False   0 days 00:26:52.385321100\n",
       "True    0 days 00:22:54.330708661\n",
       "Name: t_stay, dtype: timedelta64[ns]"
      ]
     },
     "execution_count": 59,
     "metadata": {},
     "output_type": "execute_result"
    }
   ],
   "source": [
    "df_logs_cl_ch.groupby('fb_s2').t_stay.mean()"
   ]
  },
  {
   "cell_type": "code",
   "execution_count": 60,
   "id": "c6c8efe3-05b5-493c-89a4-7d215be22dc9",
   "metadata": {},
   "outputs": [
    {
     "data": {
      "text/plain": [
       "fb_s3\n",
       "False   0 days 00:26:17.328358208\n",
       "True    0 days 00:29:48.631578947\n",
       "Name: t_stay, dtype: timedelta64[ns]"
      ]
     },
     "execution_count": 60,
     "metadata": {},
     "output_type": "execute_result"
    }
   ],
   "source": [
    "df_logs_cl_ch.groupby('fb_s3').t_stay.mean()"
   ]
  },
  {
   "cell_type": "code",
   "execution_count": 61,
   "id": "190f5773-c8e5-4786-b939-db50ecd6b295",
   "metadata": {},
   "outputs": [
    {
     "data": {
      "text/html": [
       "<div>\n",
       "<style scoped>\n",
       "    .dataframe tbody tr th:only-of-type {\n",
       "        vertical-align: middle;\n",
       "    }\n",
       "\n",
       "    .dataframe tbody tr th {\n",
       "        vertical-align: top;\n",
       "    }\n",
       "\n",
       "    .dataframe thead th {\n",
       "        text-align: right;\n",
       "    }\n",
       "</style>\n",
       "<table border=\"1\" class=\"dataframe\">\n",
       "  <thead>\n",
       "    <tr style=\"text-align: right;\">\n",
       "      <th></th>\n",
       "      <th>insta_b1</th>\n",
       "      <th>insta_b2</th>\n",
       "      <th>insta_b3</th>\n",
       "      <th>insta_b4</th>\n",
       "      <th>tg_p1</th>\n",
       "      <th>tg_p2</th>\n",
       "      <th>tg_p3</th>\n",
       "      <th>vk_g1</th>\n",
       "      <th>vk_g2</th>\n",
       "      <th>vk_g3</th>\n",
       "      <th>fb_s1</th>\n",
       "      <th>fb_s2</th>\n",
       "      <th>fb_s3</th>\n",
       "    </tr>\n",
       "  </thead>\n",
       "  <tbody>\n",
       "    <tr>\n",
       "      <th>0</th>\n",
       "      <td>25.33</td>\n",
       "      <td>25.31</td>\n",
       "      <td>27.52</td>\n",
       "      <td>29.56</td>\n",
       "      <td>26.42</td>\n",
       "      <td>27.37</td>\n",
       "      <td>22.37</td>\n",
       "      <td>29.33</td>\n",
       "      <td>27.39</td>\n",
       "      <td>28.33</td>\n",
       "      <td>24.15</td>\n",
       "      <td>22.54</td>\n",
       "      <td>29.48</td>\n",
       "    </tr>\n",
       "  </tbody>\n",
       "</table>\n",
       "</div>"
      ],
      "text/plain": [
       "   insta_b1  insta_b2  insta_b3  insta_b4  tg_p1  tg_p2  tg_p3  vk_g1  vk_g2  \\\n",
       "0     25.33     25.31     27.52     29.56  26.42  27.37  22.37  29.33  27.39   \n",
       "\n",
       "   vk_g3  fb_s1  fb_s2  fb_s3  \n",
       "0  28.33  24.15  22.54  29.48  "
      ]
     },
     "execution_count": 61,
     "metadata": {},
     "output_type": "execute_result"
    }
   ],
   "source": [
    "# Создадим DataFrame с полученными данными и построим на его основе визуалищацию.\n",
    "\n",
    "stay_by_channels = pd.DataFrame({'insta_b1':[25.33],\n",
    "                                'insta_b2':[25.31],\n",
    "                                'insta_b3':[27.52],\n",
    "                                'insta_b4':[29.56],\n",
    "                                'tg_p1':[26.42],\n",
    "                                'tg_p2':[27.37],\n",
    "                                'tg_p3':[22.37],\n",
    "                                'vk_g1':[29.33],\n",
    "                                'vk_g2':[27.39],\n",
    "                                'vk_g3':[28.33],\n",
    "                                'fb_s1':[24.15],\n",
    "                                'fb_s2':[22.54],\n",
    "                                'fb_s3':[29.48]\n",
    "                                })\n",
    "stay_by_channels"
   ]
  },
  {
   "cell_type": "code",
   "execution_count": 69,
   "id": "f683ceec-e858-4d20-a3ba-561120ad22b5",
   "metadata": {},
   "outputs": [
    {
     "data": {
      "image/png": "[encoded data removed]",
      "text/plain": [
       "<Figure size 720x288 with 1 Axes>"
      ]
     },
     "metadata": {
      "needs_background": "light"
     },
     "output_type": "display_data"
    }
   ],
   "source": [
    "# Как мы видим, существенных различий нет - среднее время пребывания слушателя на вебинаре колеблется около 25 \n",
    "# минут, блоггер №4 из инстаграмма, 1-я группа ВК и 3-я группа ФБ показывают стаибльно высокую цифру, очевидно,\n",
    "# это профессиональные сообщества. Оговоримся, что ранее 4-й блоггер инстаграмма был уличён в накрутках регистраций\n",
    "# т.к. показал низкую конверсию из регистраций в посещения. Здесь его клиенты демонстрируют самое большое среднее \n",
    "# время пребывания на вебинаре, имеет смысл более тщательно проверить, корректны ли эти данные в этой метрике? \n",
    "\n",
    "plt.figure(figsize=(10,4))\n",
    "sns.barplot(data=stay_by_channels)\n",
    "plt.title('Распределение среднего времени пристуствия на вебинаре по каналам привлечения')\n",
    "plt.ylabel('Мин.')\n",
    "plt.xlabel('Канал')\n",
    "plt.grid()"
   ]
  },
  {
   "cell_type": "code",
   "execution_count": null,
   "id": "dc34c42e-50fd-45e8-ae08-023df4b0e7aa",
   "metadata": {},
   "outputs": [],
   "source": []
  }
 ],
 "metadata": {
  "kernelspec": {
   "display_name": "Python 3 (ipykernel)",
   "language": "python",
   "name": "python3"
  },
  "language_info": {
   "codemirror_mode": {
    "name": "ipython",
    "version": 3
   },
   "file_extension": ".py",
   "mimetype": "text/x-python",
   "name": "python",
   "nbconvert_exporter": "python",
   "pygments_lexer": "ipython3",
   "version": "3.9.12"
  }
 },
 "nbformat": 4,
 "nbformat_minor": 5
}
